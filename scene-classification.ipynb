{
 "cells": [
  {
   "cell_type": "code",
   "execution_count": 1,
   "id": "a8c1610d",
   "metadata": {
    "_cell_guid": "b1076dfc-b9ad-4769-8c92-a6c4dae69d19",
    "_uuid": "8f2839f25d086af736a60e9eeb907d3b93b6e0e5",
    "execution": {
     "iopub.execute_input": "2023-03-17T06:24:01.434039Z",
     "iopub.status.busy": "2023-03-17T06:24:01.433549Z",
     "iopub.status.idle": "2023-03-17T06:24:01.445325Z",
     "shell.execute_reply": "2023-03-17T06:24:01.444401Z"
    },
    "papermill": {
     "duration": 0.029482,
     "end_time": "2023-03-17T06:24:01.447573",
     "exception": false,
     "start_time": "2023-03-17T06:24:01.418091",
     "status": "completed"
    },
    "tags": []
   },
   "outputs": [],
   "source": [
    "# This Python 3 environment comes with many helpful analytics libraries installed\n",
    "# It is defined by the kaggle/python Docker image: https://github.com/kaggle/docker-python\n",
    "# For example, here's several helpful packages to load\n",
    "\n",
    "import numpy as np # linear algebra\n",
    "import pandas as pd # data processing, CSV file I/O (e.g. pd.read_csv)\n",
    "\n",
    "# Input data files are available in the read-only \"../input/\" directory\n",
    "# For example, running this (by clicking run or pressing Shift+Enter) will list all files under the input directory\n",
    "\n",
    "import os\n",
    "#for dirname, _, filenames in os.walk('/kaggle/input'):\n",
    "    #for filename in filenames:\n",
    "        #print(os.path.join(dirname, filename))\n",
    "\n",
    "# You can write up to 20GB to the current directory (/kaggle/working/) that gets preserved as output when you create a version using \"Save & Run All\" \n",
    "# You can also write temporary files to /kaggle/temp/, but they won't be saved outside of the current session\n",
    "\n",
    "#/kaggle/input/scence-data/train.csv\n",
    "#/kaggle/input/scence-data/test.csv\n",
    "#/kaggle/input/scence-data/train/img_num.jpg\n"
   ]
  },
  {
   "cell_type": "code",
   "execution_count": 2,
   "id": "ce91eb27",
   "metadata": {
    "execution": {
     "iopub.execute_input": "2023-03-17T06:24:01.475022Z",
     "iopub.status.busy": "2023-03-17T06:24:01.473495Z",
     "iopub.status.idle": "2023-03-17T06:24:05.485997Z",
     "shell.execute_reply": "2023-03-17T06:24:05.484964Z"
    },
    "papermill": {
     "duration": 4.028537,
     "end_time": "2023-03-17T06:24:05.488569",
     "exception": false,
     "start_time": "2023-03-17T06:24:01.460032",
     "status": "completed"
    },
    "tags": []
   },
   "outputs": [],
   "source": [
    "import numpy as np  \n",
    "import pandas as pd \n",
    "from tqdm import tqdm\n",
    "import matplotlib.pyplot as plt\n",
    "from sklearn.model_selection import train_test_split\n",
    "from PIL import Image\n",
    "import skimage\n",
    "from skimage.io import imshow,imread,imsave\n",
    "from skimage.transform import resize\n",
    "\n",
    "# importing libraries for defining the architecture of model\n",
    "import torch \n",
    "import torch.nn as nn\n",
    "from torch.optim import Adam\n",
    "from torch.nn import Linear, ReLU, BCELoss, Sequential, Softmax\n",
    "\n",
    "# import torchvision\n",
    "from torchvision.models import resnet34\n",
    "from torchvision import transforms\n",
    "from torch.utils.data import Dataset, DataLoader"
   ]
  },
  {
   "cell_type": "code",
   "execution_count": 3,
   "id": "80670a9c",
   "metadata": {
    "execution": {
     "iopub.execute_input": "2023-03-17T06:24:05.515280Z",
     "iopub.status.busy": "2023-03-17T06:24:05.514746Z",
     "iopub.status.idle": "2023-03-17T06:24:05.520198Z",
     "shell.execute_reply": "2023-03-17T06:24:05.519183Z"
    },
    "papermill": {
     "duration": 0.021006,
     "end_time": "2023-03-17T06:24:05.522357",
     "exception": false,
     "start_time": "2023-03-17T06:24:05.501351",
     "status": "completed"
    },
    "tags": []
   },
   "outputs": [],
   "source": [
    "#defining preprocessing steps\n",
    "normalize=transforms.Normalize(mean=[0.485, 0.456, 0.406],std=[0.229, 0.224, 0.225])\n",
    "preprocessing=transforms.Compose([transforms.ToTensor(),normalize,transforms.Resize((240,240))])"
   ]
  },
  {
   "cell_type": "code",
   "execution_count": 4,
   "id": "c841c5be",
   "metadata": {
    "execution": {
     "iopub.execute_input": "2023-03-17T06:24:05.549129Z",
     "iopub.status.busy": "2023-03-17T06:24:05.548801Z",
     "iopub.status.idle": "2023-03-17T06:24:05.555879Z",
     "shell.execute_reply": "2023-03-17T06:24:05.554817Z"
    },
    "papermill": {
     "duration": 0.022554,
     "end_time": "2023-03-17T06:24:05.557983",
     "exception": false,
     "start_time": "2023-03-17T06:24:05.535429",
     "status": "completed"
    },
    "tags": []
   },
   "outputs": [],
   "source": [
    "#defining class to load the dataset\n",
    "class SceneDataset(Dataset):\n",
    "    def __init__(self,img_dir,csv_path,transform):\n",
    "        self.img_dir=img_dir\n",
    "        self.csv_path = csv_path\n",
    "        df=pd.read_csv(csv_path)\n",
    "        self.image_name = df.image_name.values\n",
    "        self.y = df.label.values\n",
    "        self.transform=transform\n",
    "        \n",
    "    #to read img and labels with index\n",
    "    def __getitem__(self,index):\n",
    "        img=imread(self.img_dir+self.image_name[index])\n",
    "        \n",
    "        if self.transform is not None:\n",
    "            img = self.transform(img)\n",
    "        \n",
    "        label=self.y[index]\n",
    "        \n",
    "        return img,label\n",
    "    \n",
    "    \n",
    "    def __len__(self):\n",
    "        return self.y.shape[0]\n",
    "            \n",
    "        \n",
    "        "
   ]
  },
  {
   "cell_type": "code",
   "execution_count": 5,
   "id": "c078f131",
   "metadata": {
    "execution": {
     "iopub.execute_input": "2023-03-17T06:24:05.583982Z",
     "iopub.status.busy": "2023-03-17T06:24:05.583684Z",
     "iopub.status.idle": "2023-03-17T06:24:05.620573Z",
     "shell.execute_reply": "2023-03-17T06:24:05.619419Z"
    },
    "papermill": {
     "duration": 0.052895,
     "end_time": "2023-03-17T06:24:05.623094",
     "exception": false,
     "start_time": "2023-03-17T06:24:05.570199",
     "status": "completed"
    },
    "tags": []
   },
   "outputs": [],
   "source": [
    "train_dataset=SceneDataset(img_dir='/kaggle/input/scence-data/train/',\n",
    "                          csv_path='/kaggle/input/scence-data/train.csv',\n",
    "                          transform=preprocessing)"
   ]
  },
  {
   "cell_type": "code",
   "execution_count": 6,
   "id": "04c585eb",
   "metadata": {
    "execution": {
     "iopub.execute_input": "2023-03-17T06:24:05.649653Z",
     "iopub.status.busy": "2023-03-17T06:24:05.648765Z",
     "iopub.status.idle": "2023-03-17T06:24:05.654171Z",
     "shell.execute_reply": "2023-03-17T06:24:05.653301Z"
    },
    "papermill": {
     "duration": 0.020738,
     "end_time": "2023-03-17T06:24:05.656284",
     "exception": false,
     "start_time": "2023-03-17T06:24:05.635546",
     "status": "completed"
    },
    "tags": []
   },
   "outputs": [],
   "source": [
    "train_loader = DataLoader(dataset=train_dataset,batch_size=32,shuffle=True)"
   ]
  },
  {
   "cell_type": "code",
   "execution_count": 7,
   "id": "ee9a0eeb",
   "metadata": {
    "execution": {
     "iopub.execute_input": "2023-03-17T06:24:05.682488Z",
     "iopub.status.busy": "2023-03-17T06:24:05.681867Z",
     "iopub.status.idle": "2023-03-17T06:24:06.134945Z",
     "shell.execute_reply": "2023-03-17T06:24:06.133851Z"
    },
    "papermill": {
     "duration": 0.469051,
     "end_time": "2023-03-17T06:24:06.137653",
     "exception": false,
     "start_time": "2023-03-17T06:24:05.668602",
     "status": "completed"
    },
    "tags": []
   },
   "outputs": [],
   "source": [
    "# getting the first batch\n",
    "for batch_idx, (batch_x, batch_y) in enumerate(train_loader):\n",
    "   break"
   ]
  },
  {
   "cell_type": "code",
   "execution_count": 8,
   "id": "6c65b449",
   "metadata": {
    "execution": {
     "iopub.execute_input": "2023-03-17T06:24:06.165421Z",
     "iopub.status.busy": "2023-03-17T06:24:06.163601Z",
     "iopub.status.idle": "2023-03-17T06:24:06.171908Z",
     "shell.execute_reply": "2023-03-17T06:24:06.170822Z"
    },
    "papermill": {
     "duration": 0.025258,
     "end_time": "2023-03-17T06:24:06.175383",
     "exception": false,
     "start_time": "2023-03-17T06:24:06.150125",
     "status": "completed"
    },
    "tags": []
   },
   "outputs": [
    {
     "data": {
      "text/plain": [
       "(torch.Size([32, 3, 240, 240]), torch.Size([32]))"
      ]
     },
     "execution_count": 8,
     "metadata": {},
     "output_type": "execute_result"
    }
   ],
   "source": [
    "batch_x.shape,batch_y.shape    #32,3,150,150 - 32-batch size, 150*150- size, 3 no.of channels"
   ]
  },
  {
   "cell_type": "code",
   "execution_count": 9,
   "id": "570ed8c5",
   "metadata": {
    "execution": {
     "iopub.execute_input": "2023-03-17T06:24:06.202194Z",
     "iopub.status.busy": "2023-03-17T06:24:06.201858Z",
     "iopub.status.idle": "2023-03-17T06:24:06.230365Z",
     "shell.execute_reply": "2023-03-17T06:24:06.229255Z"
    },
    "papermill": {
     "duration": 0.044263,
     "end_time": "2023-03-17T06:24:06.232619",
     "exception": false,
     "start_time": "2023-03-17T06:24:06.188356",
     "status": "completed"
    },
    "tags": []
   },
   "outputs": [
    {
     "data": {
      "text/plain": [
       "tensor([[[-0.2342, -0.2267, -0.2171,  ...,  0.6552,  0.6659,  0.6734],\n",
       "         [-0.2192, -0.2150, -0.2091,  ...,  0.6922,  0.6950,  0.6959],\n",
       "         [-0.1989, -0.1989, -0.1978,  ...,  0.7442,  0.7372,  0.7302],\n",
       "         ...,\n",
       "         [-1.9873, -1.9620, -1.9168,  ..., -1.3284, -1.7334, -2.0462],\n",
       "         [-1.9905, -1.9048, -1.7921,  ..., -1.0000, -1.3721, -1.6620],\n",
       "         [-1.9980, -1.8632, -1.6951,  ..., -0.7832, -1.1001, -1.3473]],\n",
       "\n",
       "        [[-0.0224, -0.0147, -0.0049,  ...,  0.1899,  0.1778,  0.1702],\n",
       "         [-0.0071, -0.0028,  0.0032,  ...,  0.1966,  0.1855,  0.1778],\n",
       "         [ 0.0137,  0.0137,  0.0148,  ...,  0.2074,  0.1981,  0.1910],\n",
       "         ...,\n",
       "         [-1.9372, -1.9186, -1.8816,  ..., -1.1225, -1.5974, -1.9602],\n",
       "         [-1.9307, -1.8507, -1.7459,  ..., -0.6968, -1.1331, -1.4711],\n",
       "         [-1.9307, -1.8005, -1.6396,  ..., -0.4087, -0.7818, -1.0728]],\n",
       "\n",
       "        [[ 1.8383,  1.8459,  1.8557,  ...,  1.5953,  1.5942,  1.5942],\n",
       "         [ 1.8383,  1.8425,  1.8485,  ...,  1.5949,  1.5900,  1.5866],\n",
       "         [ 1.8393,  1.8393,  1.8404,  ...,  1.5975,  1.5883,  1.5812],\n",
       "         ...,\n",
       "         [-1.4798, -1.4322, -1.3557,  ..., -0.9466, -1.1366, -1.2881],\n",
       "         [-1.5419, -1.4190, -1.2542,  ..., -0.9023, -1.1711, -1.3774],\n",
       "         [-1.5953, -1.4123, -1.1770,  ..., -0.8861, -1.2020, -1.4384]]])"
      ]
     },
     "execution_count": 9,
     "metadata": {},
     "output_type": "execute_result"
    }
   ],
   "source": [
    "batch_x[0]   #pixel value for 1st image"
   ]
  },
  {
   "cell_type": "markdown",
   "id": "4d16e1fc",
   "metadata": {
    "papermill": {
     "duration": 0.012236,
     "end_time": "2023-03-17T06:24:06.257427",
     "exception": false,
     "start_time": "2023-03-17T06:24:06.245191",
     "status": "completed"
    },
    "tags": []
   },
   "source": [
    "### Load Pretrain Resnets model"
   ]
  },
  {
   "cell_type": "code",
   "execution_count": 10,
   "id": "173b9358",
   "metadata": {
    "execution": {
     "iopub.execute_input": "2023-03-17T06:24:06.283894Z",
     "iopub.status.busy": "2023-03-17T06:24:06.283548Z",
     "iopub.status.idle": "2023-03-17T06:24:08.085884Z",
     "shell.execute_reply": "2023-03-17T06:24:08.084885Z"
    },
    "papermill": {
     "duration": 1.818848,
     "end_time": "2023-03-17T06:24:08.088633",
     "exception": false,
     "start_time": "2023-03-17T06:24:06.269785",
     "status": "completed"
    },
    "tags": []
   },
   "outputs": [
    {
     "name": "stderr",
     "output_type": "stream",
     "text": [
      "/opt/conda/lib/python3.7/site-packages/torchvision/models/_utils.py:209: UserWarning: The parameter 'pretrained' is deprecated since 0.13 and may be removed in the future, please use 'weights' instead.\n",
      "  f\"The parameter '{pretrained_param}' is deprecated since 0.13 and may be removed in the future, \"\n",
      "/opt/conda/lib/python3.7/site-packages/torchvision/models/_utils.py:223: UserWarning: Arguments other than a weight enum or `None` for 'weights' are deprecated since 0.13 and may be removed in the future. The current behavior is equivalent to passing `weights=ResNet34_Weights.IMAGENET1K_V1`. You can also use `weights=ResNet34_Weights.DEFAULT` to get the most up-to-date weights.\n",
      "  warnings.warn(msg)\n",
      "Downloading: \"https://download.pytorch.org/models/resnet34-b627a593.pth\" to /root/.cache/torch/hub/checkpoints/resnet34-b627a593.pth\n"
     ]
    },
    {
     "data": {
      "application/vnd.jupyter.widget-view+json": {
       "model_id": "37f1035627a14a708d960c2b103fb13d",
       "version_major": 2,
       "version_minor": 0
      },
      "text/plain": [
       "  0%|          | 0.00/83.3M [00:00<?, ?B/s]"
      ]
     },
     "metadata": {},
     "output_type": "display_data"
    }
   ],
   "source": [
    "resnet = resnet34(pretrained=True)"
   ]
  },
  {
   "cell_type": "code",
   "execution_count": 11,
   "id": "2293be49",
   "metadata": {
    "execution": {
     "iopub.execute_input": "2023-03-17T06:24:08.116869Z",
     "iopub.status.busy": "2023-03-17T06:24:08.116541Z",
     "iopub.status.idle": "2023-03-17T06:24:08.123946Z",
     "shell.execute_reply": "2023-03-17T06:24:08.123027Z"
    },
    "papermill": {
     "duration": 0.02372,
     "end_time": "2023-03-17T06:24:08.125915",
     "exception": false,
     "start_time": "2023-03-17T06:24:08.102195",
     "status": "completed"
    },
    "tags": []
   },
   "outputs": [
    {
     "data": {
      "text/plain": [
       "ResNet(\n",
       "  (conv1): Conv2d(3, 64, kernel_size=(7, 7), stride=(2, 2), padding=(3, 3), bias=False)\n",
       "  (bn1): BatchNorm2d(64, eps=1e-05, momentum=0.1, affine=True, track_running_stats=True)\n",
       "  (relu): ReLU(inplace=True)\n",
       "  (maxpool): MaxPool2d(kernel_size=3, stride=2, padding=1, dilation=1, ceil_mode=False)\n",
       "  (layer1): Sequential(\n",
       "    (0): BasicBlock(\n",
       "      (conv1): Conv2d(64, 64, kernel_size=(3, 3), stride=(1, 1), padding=(1, 1), bias=False)\n",
       "      (bn1): BatchNorm2d(64, eps=1e-05, momentum=0.1, affine=True, track_running_stats=True)\n",
       "      (relu): ReLU(inplace=True)\n",
       "      (conv2): Conv2d(64, 64, kernel_size=(3, 3), stride=(1, 1), padding=(1, 1), bias=False)\n",
       "      (bn2): BatchNorm2d(64, eps=1e-05, momentum=0.1, affine=True, track_running_stats=True)\n",
       "    )\n",
       "    (1): BasicBlock(\n",
       "      (conv1): Conv2d(64, 64, kernel_size=(3, 3), stride=(1, 1), padding=(1, 1), bias=False)\n",
       "      (bn1): BatchNorm2d(64, eps=1e-05, momentum=0.1, affine=True, track_running_stats=True)\n",
       "      (relu): ReLU(inplace=True)\n",
       "      (conv2): Conv2d(64, 64, kernel_size=(3, 3), stride=(1, 1), padding=(1, 1), bias=False)\n",
       "      (bn2): BatchNorm2d(64, eps=1e-05, momentum=0.1, affine=True, track_running_stats=True)\n",
       "    )\n",
       "    (2): BasicBlock(\n",
       "      (conv1): Conv2d(64, 64, kernel_size=(3, 3), stride=(1, 1), padding=(1, 1), bias=False)\n",
       "      (bn1): BatchNorm2d(64, eps=1e-05, momentum=0.1, affine=True, track_running_stats=True)\n",
       "      (relu): ReLU(inplace=True)\n",
       "      (conv2): Conv2d(64, 64, kernel_size=(3, 3), stride=(1, 1), padding=(1, 1), bias=False)\n",
       "      (bn2): BatchNorm2d(64, eps=1e-05, momentum=0.1, affine=True, track_running_stats=True)\n",
       "    )\n",
       "  )\n",
       "  (layer2): Sequential(\n",
       "    (0): BasicBlock(\n",
       "      (conv1): Conv2d(64, 128, kernel_size=(3, 3), stride=(2, 2), padding=(1, 1), bias=False)\n",
       "      (bn1): BatchNorm2d(128, eps=1e-05, momentum=0.1, affine=True, track_running_stats=True)\n",
       "      (relu): ReLU(inplace=True)\n",
       "      (conv2): Conv2d(128, 128, kernel_size=(3, 3), stride=(1, 1), padding=(1, 1), bias=False)\n",
       "      (bn2): BatchNorm2d(128, eps=1e-05, momentum=0.1, affine=True, track_running_stats=True)\n",
       "      (downsample): Sequential(\n",
       "        (0): Conv2d(64, 128, kernel_size=(1, 1), stride=(2, 2), bias=False)\n",
       "        (1): BatchNorm2d(128, eps=1e-05, momentum=0.1, affine=True, track_running_stats=True)\n",
       "      )\n",
       "    )\n",
       "    (1): BasicBlock(\n",
       "      (conv1): Conv2d(128, 128, kernel_size=(3, 3), stride=(1, 1), padding=(1, 1), bias=False)\n",
       "      (bn1): BatchNorm2d(128, eps=1e-05, momentum=0.1, affine=True, track_running_stats=True)\n",
       "      (relu): ReLU(inplace=True)\n",
       "      (conv2): Conv2d(128, 128, kernel_size=(3, 3), stride=(1, 1), padding=(1, 1), bias=False)\n",
       "      (bn2): BatchNorm2d(128, eps=1e-05, momentum=0.1, affine=True, track_running_stats=True)\n",
       "    )\n",
       "    (2): BasicBlock(\n",
       "      (conv1): Conv2d(128, 128, kernel_size=(3, 3), stride=(1, 1), padding=(1, 1), bias=False)\n",
       "      (bn1): BatchNorm2d(128, eps=1e-05, momentum=0.1, affine=True, track_running_stats=True)\n",
       "      (relu): ReLU(inplace=True)\n",
       "      (conv2): Conv2d(128, 128, kernel_size=(3, 3), stride=(1, 1), padding=(1, 1), bias=False)\n",
       "      (bn2): BatchNorm2d(128, eps=1e-05, momentum=0.1, affine=True, track_running_stats=True)\n",
       "    )\n",
       "    (3): BasicBlock(\n",
       "      (conv1): Conv2d(128, 128, kernel_size=(3, 3), stride=(1, 1), padding=(1, 1), bias=False)\n",
       "      (bn1): BatchNorm2d(128, eps=1e-05, momentum=0.1, affine=True, track_running_stats=True)\n",
       "      (relu): ReLU(inplace=True)\n",
       "      (conv2): Conv2d(128, 128, kernel_size=(3, 3), stride=(1, 1), padding=(1, 1), bias=False)\n",
       "      (bn2): BatchNorm2d(128, eps=1e-05, momentum=0.1, affine=True, track_running_stats=True)\n",
       "    )\n",
       "  )\n",
       "  (layer3): Sequential(\n",
       "    (0): BasicBlock(\n",
       "      (conv1): Conv2d(128, 256, kernel_size=(3, 3), stride=(2, 2), padding=(1, 1), bias=False)\n",
       "      (bn1): BatchNorm2d(256, eps=1e-05, momentum=0.1, affine=True, track_running_stats=True)\n",
       "      (relu): ReLU(inplace=True)\n",
       "      (conv2): Conv2d(256, 256, kernel_size=(3, 3), stride=(1, 1), padding=(1, 1), bias=False)\n",
       "      (bn2): BatchNorm2d(256, eps=1e-05, momentum=0.1, affine=True, track_running_stats=True)\n",
       "      (downsample): Sequential(\n",
       "        (0): Conv2d(128, 256, kernel_size=(1, 1), stride=(2, 2), bias=False)\n",
       "        (1): BatchNorm2d(256, eps=1e-05, momentum=0.1, affine=True, track_running_stats=True)\n",
       "      )\n",
       "    )\n",
       "    (1): BasicBlock(\n",
       "      (conv1): Conv2d(256, 256, kernel_size=(3, 3), stride=(1, 1), padding=(1, 1), bias=False)\n",
       "      (bn1): BatchNorm2d(256, eps=1e-05, momentum=0.1, affine=True, track_running_stats=True)\n",
       "      (relu): ReLU(inplace=True)\n",
       "      (conv2): Conv2d(256, 256, kernel_size=(3, 3), stride=(1, 1), padding=(1, 1), bias=False)\n",
       "      (bn2): BatchNorm2d(256, eps=1e-05, momentum=0.1, affine=True, track_running_stats=True)\n",
       "    )\n",
       "    (2): BasicBlock(\n",
       "      (conv1): Conv2d(256, 256, kernel_size=(3, 3), stride=(1, 1), padding=(1, 1), bias=False)\n",
       "      (bn1): BatchNorm2d(256, eps=1e-05, momentum=0.1, affine=True, track_running_stats=True)\n",
       "      (relu): ReLU(inplace=True)\n",
       "      (conv2): Conv2d(256, 256, kernel_size=(3, 3), stride=(1, 1), padding=(1, 1), bias=False)\n",
       "      (bn2): BatchNorm2d(256, eps=1e-05, momentum=0.1, affine=True, track_running_stats=True)\n",
       "    )\n",
       "    (3): BasicBlock(\n",
       "      (conv1): Conv2d(256, 256, kernel_size=(3, 3), stride=(1, 1), padding=(1, 1), bias=False)\n",
       "      (bn1): BatchNorm2d(256, eps=1e-05, momentum=0.1, affine=True, track_running_stats=True)\n",
       "      (relu): ReLU(inplace=True)\n",
       "      (conv2): Conv2d(256, 256, kernel_size=(3, 3), stride=(1, 1), padding=(1, 1), bias=False)\n",
       "      (bn2): BatchNorm2d(256, eps=1e-05, momentum=0.1, affine=True, track_running_stats=True)\n",
       "    )\n",
       "    (4): BasicBlock(\n",
       "      (conv1): Conv2d(256, 256, kernel_size=(3, 3), stride=(1, 1), padding=(1, 1), bias=False)\n",
       "      (bn1): BatchNorm2d(256, eps=1e-05, momentum=0.1, affine=True, track_running_stats=True)\n",
       "      (relu): ReLU(inplace=True)\n",
       "      (conv2): Conv2d(256, 256, kernel_size=(3, 3), stride=(1, 1), padding=(1, 1), bias=False)\n",
       "      (bn2): BatchNorm2d(256, eps=1e-05, momentum=0.1, affine=True, track_running_stats=True)\n",
       "    )\n",
       "    (5): BasicBlock(\n",
       "      (conv1): Conv2d(256, 256, kernel_size=(3, 3), stride=(1, 1), padding=(1, 1), bias=False)\n",
       "      (bn1): BatchNorm2d(256, eps=1e-05, momentum=0.1, affine=True, track_running_stats=True)\n",
       "      (relu): ReLU(inplace=True)\n",
       "      (conv2): Conv2d(256, 256, kernel_size=(3, 3), stride=(1, 1), padding=(1, 1), bias=False)\n",
       "      (bn2): BatchNorm2d(256, eps=1e-05, momentum=0.1, affine=True, track_running_stats=True)\n",
       "    )\n",
       "  )\n",
       "  (layer4): Sequential(\n",
       "    (0): BasicBlock(\n",
       "      (conv1): Conv2d(256, 512, kernel_size=(3, 3), stride=(2, 2), padding=(1, 1), bias=False)\n",
       "      (bn1): BatchNorm2d(512, eps=1e-05, momentum=0.1, affine=True, track_running_stats=True)\n",
       "      (relu): ReLU(inplace=True)\n",
       "      (conv2): Conv2d(512, 512, kernel_size=(3, 3), stride=(1, 1), padding=(1, 1), bias=False)\n",
       "      (bn2): BatchNorm2d(512, eps=1e-05, momentum=0.1, affine=True, track_running_stats=True)\n",
       "      (downsample): Sequential(\n",
       "        (0): Conv2d(256, 512, kernel_size=(1, 1), stride=(2, 2), bias=False)\n",
       "        (1): BatchNorm2d(512, eps=1e-05, momentum=0.1, affine=True, track_running_stats=True)\n",
       "      )\n",
       "    )\n",
       "    (1): BasicBlock(\n",
       "      (conv1): Conv2d(512, 512, kernel_size=(3, 3), stride=(1, 1), padding=(1, 1), bias=False)\n",
       "      (bn1): BatchNorm2d(512, eps=1e-05, momentum=0.1, affine=True, track_running_stats=True)\n",
       "      (relu): ReLU(inplace=True)\n",
       "      (conv2): Conv2d(512, 512, kernel_size=(3, 3), stride=(1, 1), padding=(1, 1), bias=False)\n",
       "      (bn2): BatchNorm2d(512, eps=1e-05, momentum=0.1, affine=True, track_running_stats=True)\n",
       "    )\n",
       "    (2): BasicBlock(\n",
       "      (conv1): Conv2d(512, 512, kernel_size=(3, 3), stride=(1, 1), padding=(1, 1), bias=False)\n",
       "      (bn1): BatchNorm2d(512, eps=1e-05, momentum=0.1, affine=True, track_running_stats=True)\n",
       "      (relu): ReLU(inplace=True)\n",
       "      (conv2): Conv2d(512, 512, kernel_size=(3, 3), stride=(1, 1), padding=(1, 1), bias=False)\n",
       "      (bn2): BatchNorm2d(512, eps=1e-05, momentum=0.1, affine=True, track_running_stats=True)\n",
       "    )\n",
       "  )\n",
       "  (avgpool): AdaptiveAvgPool2d(output_size=(1, 1))\n",
       "  (fc): Linear(in_features=512, out_features=1000, bias=True)\n",
       ")"
      ]
     },
     "execution_count": 11,
     "metadata": {},
     "output_type": "execute_result"
    }
   ],
   "source": [
    "resnet"
   ]
  },
  {
   "cell_type": "code",
   "execution_count": 12,
   "id": "af8f4f3e",
   "metadata": {
    "execution": {
     "iopub.execute_input": "2023-03-17T06:24:08.153714Z",
     "iopub.status.busy": "2023-03-17T06:24:08.152856Z",
     "iopub.status.idle": "2023-03-17T06:24:10.999646Z",
     "shell.execute_reply": "2023-03-17T06:24:10.998583Z"
    },
    "papermill": {
     "duration": 2.863299,
     "end_time": "2023-03-17T06:24:11.002407",
     "exception": false,
     "start_time": "2023-03-17T06:24:08.139108",
     "status": "completed"
    },
    "tags": []
   },
   "outputs": [],
   "source": [
    "if torch.cuda.is_available():\n",
    "    resnet=resnet.cuda()"
   ]
  },
  {
   "cell_type": "code",
   "execution_count": 13,
   "id": "e443bf92",
   "metadata": {
    "execution": {
     "iopub.execute_input": "2023-03-17T06:24:11.030782Z",
     "iopub.status.busy": "2023-03-17T06:24:11.029825Z",
     "iopub.status.idle": "2023-03-17T06:24:15.272099Z",
     "shell.execute_reply": "2023-03-17T06:24:15.271069Z"
    },
    "papermill": {
     "duration": 4.258586,
     "end_time": "2023-03-17T06:24:15.274316",
     "exception": false,
     "start_time": "2023-03-17T06:24:11.015730",
     "status": "completed"
    },
    "tags": []
   },
   "outputs": [
    {
     "data": {
      "text/plain": [
       "torch.Size([2, 1000])"
      ]
     },
     "execution_count": 13,
     "metadata": {},
     "output_type": "execute_result"
    }
   ],
   "source": [
    "#undestanding output of resnet for 1st 2 imgae\n",
    "input=batch_x[:2]\n",
    "input=input.cuda()\n",
    "features=resnet(input)\n",
    "features.shape"
   ]
  },
  {
   "cell_type": "markdown",
   "id": "bb4c2fc4",
   "metadata": {
    "papermill": {
     "duration": 0.013028,
     "end_time": "2023-03-17T06:24:15.300929",
     "exception": false,
     "start_time": "2023-03-17T06:24:15.287901",
     "status": "completed"
    },
    "tags": []
   },
   "source": [
    "### Fine tune the model for the current problem\n",
    "Steps:-\n",
    "\n",
    "Extract the features\n",
    "\n",
    "Flatten the data\n",
    "\n",
    "Define a Neural Network Model\n",
    "\n",
    "Compile the model\n",
    "\n",
    "Train the model"
   ]
  },
  {
   "cell_type": "code",
   "execution_count": 14,
   "id": "9a17709c",
   "metadata": {
    "execution": {
     "iopub.execute_input": "2023-03-17T06:24:15.328787Z",
     "iopub.status.busy": "2023-03-17T06:24:15.328158Z",
     "iopub.status.idle": "2023-03-17T06:24:15.332612Z",
     "shell.execute_reply": "2023-03-17T06:24:15.331616Z"
    },
    "papermill": {
     "duration": 0.020721,
     "end_time": "2023-03-17T06:24:15.334658",
     "exception": false,
     "start_time": "2023-03-17T06:24:15.313937",
     "status": "completed"
    },
    "tags": []
   },
   "outputs": [],
   "source": [
    "device='cuda' if torch.cuda.is_available else 'cpu'"
   ]
  },
  {
   "cell_type": "code",
   "execution_count": 15,
   "id": "4301bfe1",
   "metadata": {
    "execution": {
     "iopub.execute_input": "2023-03-17T06:24:15.362581Z",
     "iopub.status.busy": "2023-03-17T06:24:15.362024Z",
     "iopub.status.idle": "2023-03-17T06:27:20.994524Z",
     "shell.execute_reply": "2023-03-17T06:27:20.993408Z"
    },
    "papermill": {
     "duration": 185.649534,
     "end_time": "2023-03-17T06:27:20.997334",
     "exception": false,
     "start_time": "2023-03-17T06:24:15.347800",
     "status": "completed"
    },
    "tags": []
   },
   "outputs": [],
   "source": [
    "features=[]\n",
    "targets=[]\n",
    "time_eclapsed=[]\n",
    "\n",
    "resnet.eval()\n",
    "\n",
    "with torch.no_grad():\n",
    "    \n",
    "    for idx,(batch_x,batch_y) in enumerate(train_loader):\n",
    "        batch_x=batch_x.to(device)\n",
    "    \n",
    "     #to record the time for extracting features\n",
    "        start = torch.cuda.Event(enable_timing=True)\n",
    "        end = torch.cuda.Event(enable_timing=True)\n",
    "    \n",
    "        start.record()\n",
    "    \n",
    "        batch_features = resnet(batch_x)\n",
    "    \n",
    "        end.record()\n",
    "    \n",
    "    #wait for everyting to synchronize\n",
    "        torch.cuda.synchronize()\n",
    "    \n",
    "        time_eclapsed.append(start.elapsed_time(end))\n",
    "    \n",
    "        batch_features = batch_features.data.cpu().numpy()\n",
    "    \n",
    "        features.append(batch_features)\n",
    "        targets.append(batch_y)\n",
    "    \n",
    "    \n",
    "    \n",
    "#save to the array\n",
    "features = np.concatenate(features, axis=0)\n",
    "targets = np.concatenate(targets, axis=0)    \n",
    "\n"
   ]
  },
  {
   "cell_type": "code",
   "execution_count": 16,
   "id": "5b820b05",
   "metadata": {
    "execution": {
     "iopub.execute_input": "2023-03-17T06:27:21.025892Z",
     "iopub.status.busy": "2023-03-17T06:27:21.025551Z",
     "iopub.status.idle": "2023-03-17T06:27:21.033075Z",
     "shell.execute_reply": "2023-03-17T06:27:21.032065Z"
    },
    "papermill": {
     "duration": 0.024084,
     "end_time": "2023-03-17T06:27:21.035198",
     "exception": false,
     "start_time": "2023-03-17T06:27:21.011114",
     "status": "completed"
    },
    "tags": []
   },
   "outputs": [
    {
     "data": {
      "text/plain": [
       "((17034, 1000), (17034,))"
      ]
     },
     "execution_count": 16,
     "metadata": {},
     "output_type": "execute_result"
    }
   ],
   "source": [
    "features.shape,targets.shape   #17034 image, 1000 features"
   ]
  },
  {
   "cell_type": "code",
   "execution_count": 17,
   "id": "7dfabef3",
   "metadata": {
    "execution": {
     "iopub.execute_input": "2023-03-17T06:27:21.062982Z",
     "iopub.status.busy": "2023-03-17T06:27:21.062691Z",
     "iopub.status.idle": "2023-03-17T06:27:21.069463Z",
     "shell.execute_reply": "2023-03-17T06:27:21.068394Z"
    },
    "papermill": {
     "duration": 0.024007,
     "end_time": "2023-03-17T06:27:21.072356",
     "exception": false,
     "start_time": "2023-03-17T06:27:21.048349",
     "status": "completed"
    },
    "tags": []
   },
   "outputs": [
    {
     "name": "stdout",
     "output_type": "stream",
     "text": [
      "Time taken in seconds:  tensor(15.6258)\n"
     ]
    }
   ],
   "source": [
    "# time taken to extract features\n",
    "print('Time taken in seconds: ', torch.sum(torch.tensor(time_eclapsed)*0.001))"
   ]
  },
  {
   "cell_type": "code",
   "execution_count": 18,
   "id": "f8fa802f",
   "metadata": {
    "execution": {
     "iopub.execute_input": "2023-03-17T06:27:21.100131Z",
     "iopub.status.busy": "2023-03-17T06:27:21.099823Z",
     "iopub.status.idle": "2023-03-17T06:27:21.127269Z",
     "shell.execute_reply": "2023-03-17T06:27:21.126310Z"
    },
    "papermill": {
     "duration": 0.043659,
     "end_time": "2023-03-17T06:27:21.129322",
     "exception": false,
     "start_time": "2023-03-17T06:27:21.085663",
     "status": "completed"
    },
    "tags": []
   },
   "outputs": [],
   "source": [
    "# creating the training and validation data\n",
    "X_train, X_valid, Y_train, Y_valid = train_test_split(features, targets, test_size=0.3, stratify=targets, random_state=42)"
   ]
  },
  {
   "cell_type": "code",
   "execution_count": 19,
   "id": "e80815c4",
   "metadata": {
    "execution": {
     "iopub.execute_input": "2023-03-17T06:27:21.157230Z",
     "iopub.status.busy": "2023-03-17T06:27:21.156919Z",
     "iopub.status.idle": "2023-03-17T06:27:21.165688Z",
     "shell.execute_reply": "2023-03-17T06:27:21.164727Z"
    },
    "papermill": {
     "duration": 0.025161,
     "end_time": "2023-03-17T06:27:21.167998",
     "exception": false,
     "start_time": "2023-03-17T06:27:21.142837",
     "status": "completed"
    },
    "tags": []
   },
   "outputs": [
    {
     "data": {
      "text/plain": [
       "((11923, 1000), (5111, 1000), (11923,), (5111,))"
      ]
     },
     "execution_count": 19,
     "metadata": {},
     "output_type": "execute_result"
    }
   ],
   "source": [
    "X_train.shape, X_valid.shape, Y_train.shape, Y_valid.shape"
   ]
  },
  {
   "cell_type": "code",
   "execution_count": 20,
   "id": "8e561e43",
   "metadata": {
    "execution": {
     "iopub.execute_input": "2023-03-17T06:27:21.195993Z",
     "iopub.status.busy": "2023-03-17T06:27:21.195676Z",
     "iopub.status.idle": "2023-03-17T06:27:21.202488Z",
     "shell.execute_reply": "2023-03-17T06:27:21.200984Z"
    },
    "papermill": {
     "duration": 0.023203,
     "end_time": "2023-03-17T06:27:21.204537",
     "exception": false,
     "start_time": "2023-03-17T06:27:21.181334",
     "status": "completed"
    },
    "tags": []
   },
   "outputs": [],
   "source": [
    "# converting training and validation set to PyTorch tensor\n",
    "X_train = torch.FloatTensor(X_train)\n",
    "Y_train = torch.FloatTensor(Y_train)\n",
    "\n",
    "X_valid = torch.FloatTensor(X_valid)\n",
    "Y_valid = torch.FloatTensor(Y_valid)\n",
    "\n",
    "\n",
    "Y_train = Y_train.long()\n",
    "Y_valid = Y_valid.long()"
   ]
  },
  {
   "cell_type": "markdown",
   "id": "e4bab596",
   "metadata": {
    "papermill": {
     "duration": 0.013046,
     "end_time": "2023-03-17T06:27:21.230879",
     "exception": false,
     "start_time": "2023-03-17T06:27:21.217833",
     "status": "completed"
    },
    "tags": []
   },
   "source": [
    "**Define Neural Network**"
   ]
  },
  {
   "cell_type": "code",
   "execution_count": 21,
   "id": "a196568d",
   "metadata": {
    "execution": {
     "iopub.execute_input": "2023-03-17T06:27:21.259526Z",
     "iopub.status.busy": "2023-03-17T06:27:21.258584Z",
     "iopub.status.idle": "2023-03-17T06:27:21.265040Z",
     "shell.execute_reply": "2023-03-17T06:27:21.264102Z"
    },
    "papermill": {
     "duration": 0.023122,
     "end_time": "2023-03-17T06:27:21.267251",
     "exception": false,
     "start_time": "2023-03-17T06:27:21.244129",
     "status": "completed"
    },
    "tags": []
   },
   "outputs": [],
   "source": [
    "model=Sequential(Linear(1000,64),\n",
    "                ReLU(),\n",
    "                Linear(64,6),\n",
    "                Softmax())"
   ]
  },
  {
   "cell_type": "code",
   "execution_count": 22,
   "id": "30c5d246",
   "metadata": {
    "execution": {
     "iopub.execute_input": "2023-03-17T06:27:21.295546Z",
     "iopub.status.busy": "2023-03-17T06:27:21.294941Z",
     "iopub.status.idle": "2023-03-17T06:27:21.301411Z",
     "shell.execute_reply": "2023-03-17T06:27:21.300288Z"
    },
    "papermill": {
     "duration": 0.023822,
     "end_time": "2023-03-17T06:27:21.304690",
     "exception": false,
     "start_time": "2023-03-17T06:27:21.280868",
     "status": "completed"
    },
    "tags": []
   },
   "outputs": [
    {
     "data": {
      "text/plain": [
       "Sequential(\n",
       "  (0): Linear(in_features=1000, out_features=64, bias=True)\n",
       "  (1): ReLU()\n",
       "  (2): Linear(in_features=64, out_features=6, bias=True)\n",
       "  (3): Softmax(dim=None)\n",
       ")"
      ]
     },
     "execution_count": 22,
     "metadata": {},
     "output_type": "execute_result"
    }
   ],
   "source": [
    "model"
   ]
  },
  {
   "cell_type": "code",
   "execution_count": 23,
   "id": "b76b06ae",
   "metadata": {
    "execution": {
     "iopub.execute_input": "2023-03-17T06:27:21.332596Z",
     "iopub.status.busy": "2023-03-17T06:27:21.332291Z",
     "iopub.status.idle": "2023-03-17T06:27:21.390505Z",
     "shell.execute_reply": "2023-03-17T06:27:21.389117Z"
    },
    "papermill": {
     "duration": 0.076227,
     "end_time": "2023-03-17T06:27:21.394199",
     "exception": false,
     "start_time": "2023-03-17T06:27:21.317972",
     "status": "completed"
    },
    "tags": []
   },
   "outputs": [
    {
     "name": "stdout",
     "output_type": "stream",
     "text": [
      "tensor([0.3164, 0.0695, 0.2510, 0.1815, 0.0977, 0.0839],\n",
      "       grad_fn=<SoftmaxBackward0>) \n",
      " tensor(3) tensor(0)\n"
     ]
    },
    {
     "name": "stderr",
     "output_type": "stream",
     "text": [
      "/opt/conda/lib/python3.7/site-packages/torch/nn/modules/container.py:204: UserWarning: Implicit dimension choice for softmax has been deprecated. Change the call to include dim=X as an argument.\n",
      "  input = module(input)\n"
     ]
    }
   ],
   "source": [
    "ind = 10\n",
    "print(model(X_train[ind]), \"\\n\", Y_train[ind], torch.argmax(model(X_train[ind])))"
   ]
  },
  {
   "cell_type": "markdown",
   "id": "1af017c5",
   "metadata": {
    "papermill": {
     "duration": 0.013756,
     "end_time": "2023-03-17T06:27:21.422719",
     "exception": false,
     "start_time": "2023-03-17T06:27:21.408963",
     "status": "completed"
    },
    "tags": []
   },
   "source": [
    "**COmpiling the model**"
   ]
  },
  {
   "cell_type": "code",
   "execution_count": 24,
   "id": "658d5564",
   "metadata": {
    "execution": {
     "iopub.execute_input": "2023-03-17T06:27:21.451202Z",
     "iopub.status.busy": "2023-03-17T06:27:21.450836Z",
     "iopub.status.idle": "2023-03-17T06:27:21.460226Z",
     "shell.execute_reply": "2023-03-17T06:27:21.459267Z"
    },
    "papermill": {
     "duration": 0.026059,
     "end_time": "2023-03-17T06:27:21.462362",
     "exception": false,
     "start_time": "2023-03-17T06:27:21.436303",
     "status": "completed"
    },
    "tags": []
   },
   "outputs": [
    {
     "data": {
      "text/plain": [
       "CrossEntropyLoss()"
      ]
     },
     "execution_count": 24,
     "metadata": {},
     "output_type": "execute_result"
    }
   ],
   "source": [
    "optimizer=torch.optim.Adam(model.parameters())\n",
    "criterion = nn.CrossEntropyLoss()\n",
    "\n",
    "#putting model and criterion to gpu if available\n",
    "model.to(device)\n",
    "criterion.to(device)"
   ]
  },
  {
   "cell_type": "code",
   "execution_count": 25,
   "id": "79edd482",
   "metadata": {
    "execution": {
     "iopub.execute_input": "2023-03-17T06:27:21.490579Z",
     "iopub.status.busy": "2023-03-17T06:27:21.490274Z",
     "iopub.status.idle": "2023-03-17T06:27:21.496494Z",
     "shell.execute_reply": "2023-03-17T06:27:21.495547Z"
    },
    "papermill": {
     "duration": 0.022793,
     "end_time": "2023-03-17T06:27:21.498624",
     "exception": false,
     "start_time": "2023-03-17T06:27:21.475831",
     "status": "completed"
    },
    "tags": []
   },
   "outputs": [],
   "source": [
    "#define metric\n",
    "def multi_class_acc(preds,y):\n",
    "    \n",
    "    round_preds=torch.argmax(preds,dim=1)  #dims=1 will return max index value for each row\n",
    "    \n",
    "    #no.of correct classify\n",
    "    correct = (round_preds==y).float()\n",
    "    \n",
    "    #compute acc\n",
    "    acc = correct.sum()/len(correct)\n",
    "    \n",
    "    return acc\n",
    "                           "
   ]
  },
  {
   "cell_type": "code",
   "execution_count": 26,
   "id": "fd341853",
   "metadata": {
    "execution": {
     "iopub.execute_input": "2023-03-17T06:27:21.526747Z",
     "iopub.status.busy": "2023-03-17T06:27:21.526461Z",
     "iopub.status.idle": "2023-03-17T06:27:21.535636Z",
     "shell.execute_reply": "2023-03-17T06:27:21.534678Z"
    },
    "papermill": {
     "duration": 0.025542,
     "end_time": "2023-03-17T06:27:21.537652",
     "exception": false,
     "start_time": "2023-03-17T06:27:21.512110",
     "status": "completed"
    },
    "tags": []
   },
   "outputs": [],
   "source": [
    "def train(X,Y,batch_size):\n",
    "    \n",
    "    model.train()\n",
    "    \n",
    "    #initialization\n",
    "    epoch_loss,epoch_acc=0,0\n",
    "    num_of_batches=0\n",
    "    \n",
    "    #randomly create index\n",
    "    index=torch.randperm(len(X))\n",
    "    \n",
    "    for i in range(0,len(index),batch_size):\n",
    "        #print(\"training\")\n",
    "        ind=index[i:i+batch_size]\n",
    "        \n",
    "        batch_x=X[ind]\n",
    "        batch_y=Y[ind]\n",
    "        \n",
    "        batch_y = batch_y.type(torch.LongTensor)\n",
    "        \n",
    "        batch_x=batch_x.to(device)\n",
    "        batch_y=batch_y.to(device)\n",
    "        \n",
    "        optimizer.zero_grad()\n",
    "        \n",
    "        outputs=model(batch_x)\n",
    "        \n",
    "        #squezing outputs\n",
    "        \n",
    "        outputs.squeeze()\n",
    "        \n",
    "        loss = criterion(outputs,batch_y)\n",
    "        acc = multi_class_acc(outputs, batch_y) \n",
    "        \n",
    "        #backward pass\n",
    "        loss.backward()\n",
    "        \n",
    "        # Update weights\n",
    "        optimizer.step()\n",
    "        \n",
    "        # Keep track of the loss and accuracy of a epoch\n",
    "        epoch_loss = epoch_loss + loss.item()\n",
    "        epoch_acc  = epoch_acc  + acc.item()\n",
    "        \n",
    "        num_of_batches = num_of_batches+1\n",
    "        \n",
    "    return epoch_loss/num_of_batches, epoch_acc/num_of_batches\n",
    "        \n",
    "        "
   ]
  },
  {
   "cell_type": "code",
   "execution_count": 27,
   "id": "ef952cf9",
   "metadata": {
    "execution": {
     "iopub.execute_input": "2023-03-17T06:27:21.566262Z",
     "iopub.status.busy": "2023-03-17T06:27:21.565413Z",
     "iopub.status.idle": "2023-03-17T06:27:21.573918Z",
     "shell.execute_reply": "2023-03-17T06:27:21.572989Z"
    },
    "papermill": {
     "duration": 0.024992,
     "end_time": "2023-03-17T06:27:21.575979",
     "exception": false,
     "start_time": "2023-03-17T06:27:21.550987",
     "status": "completed"
    },
    "tags": []
   },
   "outputs": [],
   "source": [
    "def evaluate(X,Y,batch_size):\n",
    "    \n",
    "     # deactivate training phase\n",
    "    model.eval()\n",
    "    \n",
    "    epoch_loss,epoch_acc=0,0\n",
    "    num_of_batches=0\n",
    "    \n",
    "    #randomly create index\n",
    "    index=torch.randperm(len(X))\n",
    "    \n",
    "    with torch.no_grad():\n",
    "        \n",
    "        for i in range(0,len(index),batch_size):\n",
    "            \n",
    "            ind=index[i:i+batch_size]\n",
    "        \n",
    "            batch_x=X[ind]\n",
    "            batch_y=Y[ind]\n",
    "        \n",
    "            batch_y = batch_y.type(torch.LongTensor)\n",
    "        \n",
    "            batch_x=batch_x.to(device)\n",
    "            batch_y=batch_y.to(device)\n",
    "        \n",
    "            optimizer.zero_grad()\n",
    "        \n",
    "            outputs=model(batch_x)\n",
    "        \n",
    "            #squezing outputs\n",
    "        \n",
    "            outputs.squeeze()\n",
    "        \n",
    "            loss = criterion(outputs,batch_y)\n",
    "            acc = multi_class_acc(outputs, batch_y) \n",
    "        \n",
    "            \n",
    "        \n",
    "            # Keep track of the loss and accuracy of a epoch\n",
    "            epoch_loss = epoch_loss + loss.item()\n",
    "            epoch_acc  = epoch_acc  + acc.item()\n",
    "        \n",
    "            num_of_batches=num_of_batches+1\n",
    "        \n",
    "    return epoch_loss/num_of_batches, epoch_acc/num_of_batches\n",
    "    \n",
    "    \n",
    "    \n",
    "   \n",
    "\n",
    " \n",
    "    \n",
    "    "
   ]
  },
  {
   "cell_type": "code",
   "execution_count": 28,
   "id": "c580e848",
   "metadata": {
    "execution": {
     "iopub.execute_input": "2023-03-17T06:27:21.604770Z",
     "iopub.status.busy": "2023-03-17T06:27:21.603950Z",
     "iopub.status.idle": "2023-03-17T06:27:21.611349Z",
     "shell.execute_reply": "2023-03-17T06:27:21.610426Z"
    },
    "papermill": {
     "duration": 0.023995,
     "end_time": "2023-03-17T06:27:21.613446",
     "exception": false,
     "start_time": "2023-03-17T06:27:21.589451",
     "status": "completed"
    },
    "tags": []
   },
   "outputs": [],
   "source": [
    "# define prediction function\n",
    "def predict(X,batch_size):\n",
    "  \n",
    "  # deactivate training phase\n",
    "    model.eval()\n",
    "\n",
    "  # initialization \n",
    "    predictions = []\n",
    "\n",
    "  # create indices\n",
    "    indices = torch.arange(len(X))\n",
    "\n",
    "  # deactivates autograd\n",
    "    with torch.no_grad():\n",
    "      \n",
    "      for i in range(0, len(X), batch_size):\n",
    "        \n",
    "        # indices for a batch\n",
    "        ind = indices[i:i+batch_size]\n",
    "\n",
    "        # batch\n",
    "        batch_x = X[ind]\n",
    "\n",
    "        # push to cuda\n",
    "        if torch.cuda.is_available():\n",
    "            batch_x = batch_x.cuda()\n",
    "\n",
    "        # forward pass\n",
    "        outputs = model(batch_x)\n",
    "\n",
    "        # converting the output to 1 Dimensional tensor\n",
    "        outputs = outputs.squeeze()\n",
    "\n",
    "        # convert to numpy array\n",
    "        prediction = outputs.data.cpu().numpy()\n",
    "        predictions.append(prediction)\n",
    "    \n",
    "  # convert to single numpy array\n",
    "    predictions = np.concatenate(predictions, axis=0)\n",
    "    \n",
    "    return predictions"
   ]
  },
  {
   "cell_type": "code",
   "execution_count": 29,
   "id": "056f5e3d",
   "metadata": {
    "execution": {
     "iopub.execute_input": "2023-03-17T06:27:21.641905Z",
     "iopub.status.busy": "2023-03-17T06:27:21.641204Z",
     "iopub.status.idle": "2023-03-17T06:27:51.692747Z",
     "shell.execute_reply": "2023-03-17T06:27:51.688349Z"
    },
    "papermill": {
     "duration": 30.081845,
     "end_time": "2023-03-17T06:27:51.708608",
     "exception": false,
     "start_time": "2023-03-17T06:27:21.626763",
     "status": "completed"
    },
    "tags": []
   },
   "outputs": [
    {
     "name": "stdout",
     "output_type": "stream",
     "text": [
      "\n",
      "Epoch : 0 Training loss: 1.1733 \tTrain Accuracy: 0.8752 \tValidation loss: 1.1452 \tValidation Accuracy: 0.8986\n",
      "\n",
      "----------------------------------------------------Saved best model------------------------------------------------------------------\n",
      "\n",
      "Epoch : 1 Training loss: 1.1379 \tTrain Accuracy: 0.9071 \tValidation loss: 1.1401 \tValidation Accuracy: 0.9036\n",
      "\n",
      "----------------------------------------------------Saved best model------------------------------------------------------------------\n",
      "\n",
      "Epoch : 2 Training loss: 1.1335 \tTrain Accuracy: 0.9111 \tValidation loss: 1.1368 \tValidation Accuracy: 0.9058\n",
      "\n",
      "----------------------------------------------------Saved best model------------------------------------------------------------------\n",
      "\n",
      "Epoch : 3 Training loss: 1.1308 \tTrain Accuracy: 0.9122 \tValidation loss: 1.1378 \tValidation Accuracy: 0.9049\n",
      "\n",
      "Epoch : 4 Training loss: 1.1285 \tTrain Accuracy: 0.9153 \tValidation loss: 1.1437 \tValidation Accuracy: 0.8994\n",
      "\n",
      "Epoch : 5 Training loss: 1.1271 \tTrain Accuracy: 0.9161 \tValidation loss: 1.1423 \tValidation Accuracy: 0.9012\n",
      "\n",
      "Epoch : 6 Training loss: 1.1238 \tTrain Accuracy: 0.9192 \tValidation loss: 1.1439 \tValidation Accuracy: 0.8984\n",
      "\n",
      "Epoch : 7 Training loss: 1.1235 \tTrain Accuracy: 0.9197 \tValidation loss: 1.133 \tValidation Accuracy: 0.9092\n",
      "\n",
      "----------------------------------------------------Saved best model------------------------------------------------------------------\n",
      "\n",
      "Epoch : 8 Training loss: 1.1197 \tTrain Accuracy: 0.9234 \tValidation loss: 1.1369 \tValidation Accuracy: 0.905\n",
      "\n",
      "Epoch : 9 Training loss: 1.1193 \tTrain Accuracy: 0.9236 \tValidation loss: 1.133 \tValidation Accuracy: 0.9097\n",
      "\n",
      "----------------------------------------------------Saved best model------------------------------------------------------------------\n",
      "\n",
      "Epoch : 10 Training loss: 1.1171 \tTrain Accuracy: 0.9265 \tValidation loss: 1.1364 \tValidation Accuracy: 0.9059\n",
      "\n",
      "Epoch : 11 Training loss: 1.116 \tTrain Accuracy: 0.9277 \tValidation loss: 1.1302 \tValidation Accuracy: 0.9122\n",
      "\n",
      "----------------------------------------------------Saved best model------------------------------------------------------------------\n",
      "\n",
      "Epoch : 12 Training loss: 1.118 \tTrain Accuracy: 0.925 \tValidation loss: 1.1365 \tValidation Accuracy: 0.9059\n",
      "\n",
      "Epoch : 13 Training loss: 1.1192 \tTrain Accuracy: 0.9243 \tValidation loss: 1.1462 \tValidation Accuracy: 0.8963\n",
      "\n",
      "Epoch : 14 Training loss: 1.1128 \tTrain Accuracy: 0.931 \tValidation loss: 1.1336 \tValidation Accuracy: 0.9083\n",
      "\n",
      "Epoch : 15 Training loss: 1.1145 \tTrain Accuracy: 0.9286 \tValidation loss: 1.1334 \tValidation Accuracy: 0.9096\n",
      "\n",
      "Epoch : 16 Training loss: 1.1145 \tTrain Accuracy: 0.9282 \tValidation loss: 1.1303 \tValidation Accuracy: 0.9125\n",
      "\n",
      "----------------------------------------------------Saved best model------------------------------------------------------------------\n",
      "\n",
      "Epoch : 17 Training loss: 1.1122 \tTrain Accuracy: 0.9315 \tValidation loss: 1.1311 \tValidation Accuracy: 0.9122\n",
      "\n",
      "Epoch : 18 Training loss: 1.1123 \tTrain Accuracy: 0.9314 \tValidation loss: 1.1305 \tValidation Accuracy: 0.9122\n",
      "\n",
      "Epoch : 19 Training loss: 1.1094 \tTrain Accuracy: 0.9338 \tValidation loss: 1.1281 \tValidation Accuracy: 0.9152\n",
      "\n",
      "----------------------------------------------------Saved best model------------------------------------------------------------------\n",
      "\n",
      "Epoch : 20 Training loss: 1.109 \tTrain Accuracy: 0.9343 \tValidation loss: 1.126 \tValidation Accuracy: 0.9169\n",
      "\n",
      "----------------------------------------------------Saved best model------------------------------------------------------------------\n",
      "\n",
      "Epoch : 21 Training loss: 1.1056 \tTrain Accuracy: 0.937 \tValidation loss: 1.1354 \tValidation Accuracy: 0.908\n",
      "\n",
      "Epoch : 22 Training loss: 1.1069 \tTrain Accuracy: 0.9362 \tValidation loss: 1.1346 \tValidation Accuracy: 0.9085\n",
      "\n",
      "Epoch : 23 Training loss: 1.1083 \tTrain Accuracy: 0.9343 \tValidation loss: 1.1331 \tValidation Accuracy: 0.9098\n",
      "\n",
      "Epoch : 24 Training loss: 1.1054 \tTrain Accuracy: 0.9383 \tValidation loss: 1.1267 \tValidation Accuracy: 0.9166\n",
      "\n",
      "Epoch : 25 Training loss: 1.1042 \tTrain Accuracy: 0.9397 \tValidation loss: 1.1257 \tValidation Accuracy: 0.9172\n",
      "\n",
      "----------------------------------------------------Saved best model------------------------------------------------------------------\n",
      "\n",
      "Epoch : 26 Training loss: 1.105 \tTrain Accuracy: 0.9381 \tValidation loss: 1.1335 \tValidation Accuracy: 0.9091\n",
      "\n",
      "Epoch : 27 Training loss: 1.1065 \tTrain Accuracy: 0.9369 \tValidation loss: 1.1265 \tValidation Accuracy: 0.9168\n",
      "\n",
      "Epoch : 28 Training loss: 1.1009 \tTrain Accuracy: 0.9425 \tValidation loss: 1.1247 \tValidation Accuracy: 0.9183\n",
      "\n",
      "----------------------------------------------------Saved best model------------------------------------------------------------------\n",
      "\n",
      "Epoch : 29 Training loss: 1.1044 \tTrain Accuracy: 0.9392 \tValidation loss: 1.1408 \tValidation Accuracy: 0.9015\n",
      "\n",
      "Epoch : 30 Training loss: 1.1062 \tTrain Accuracy: 0.9374 \tValidation loss: 1.1277 \tValidation Accuracy: 0.9148\n",
      "\n",
      "Epoch : 31 Training loss: 1.1008 \tTrain Accuracy: 0.9426 \tValidation loss: 1.1287 \tValidation Accuracy: 0.9141\n",
      "\n",
      "Epoch : 32 Training loss: 1.1014 \tTrain Accuracy: 0.9424 \tValidation loss: 1.1456 \tValidation Accuracy: 0.8971\n",
      "\n",
      "Epoch : 33 Training loss: 1.1035 \tTrain Accuracy: 0.9398 \tValidation loss: 1.1269 \tValidation Accuracy: 0.9159\n",
      "\n",
      "Epoch : 34 Training loss: 1.0995 \tTrain Accuracy: 0.9437 \tValidation loss: 1.132 \tValidation Accuracy: 0.9105\n",
      "\n",
      "Epoch : 35 Training loss: 1.0995 \tTrain Accuracy: 0.9435 \tValidation loss: 1.1271 \tValidation Accuracy: 0.9155\n",
      "\n",
      "Epoch : 36 Training loss: 1.0978 \tTrain Accuracy: 0.9453 \tValidation loss: 1.1236 \tValidation Accuracy: 0.9185\n",
      "\n",
      "----------------------------------------------------Saved best model------------------------------------------------------------------\n",
      "\n",
      "Epoch : 37 Training loss: 1.1012 \tTrain Accuracy: 0.9422 \tValidation loss: 1.1256 \tValidation Accuracy: 0.9176\n",
      "\n",
      "Epoch : 38 Training loss: 1.0983 \tTrain Accuracy: 0.9453 \tValidation loss: 1.1287 \tValidation Accuracy: 0.914\n",
      "\n",
      "Epoch : 39 Training loss: 1.0993 \tTrain Accuracy: 0.9441 \tValidation loss: 1.1273 \tValidation Accuracy: 0.9162\n",
      "\n",
      "Epoch : 40 Training loss: 1.1006 \tTrain Accuracy: 0.9429 \tValidation loss: 1.1289 \tValidation Accuracy: 0.9137\n",
      "\n",
      "Epoch : 41 Training loss: 1.0976 \tTrain Accuracy: 0.9459 \tValidation loss: 1.1306 \tValidation Accuracy: 0.9125\n",
      "\n",
      "Epoch : 42 Training loss: 1.0966 \tTrain Accuracy: 0.9471 \tValidation loss: 1.1256 \tValidation Accuracy: 0.9179\n",
      "\n",
      "Epoch : 43 Training loss: 1.0929 \tTrain Accuracy: 0.9506 \tValidation loss: 1.1262 \tValidation Accuracy: 0.9169\n",
      "\n",
      "Epoch : 44 Training loss: 1.0969 \tTrain Accuracy: 0.9467 \tValidation loss: 1.1328 \tValidation Accuracy: 0.9093\n",
      "\n",
      "Epoch : 45 Training loss: 1.095 \tTrain Accuracy: 0.9483 \tValidation loss: 1.1262 \tValidation Accuracy: 0.9173\n",
      "\n",
      "Epoch : 46 Training loss: 1.0956 \tTrain Accuracy: 0.9479 \tValidation loss: 1.1309 \tValidation Accuracy: 0.9124\n",
      "\n",
      "Epoch : 47 Training loss: 1.0975 \tTrain Accuracy: 0.9458 \tValidation loss: 1.1285 \tValidation Accuracy: 0.9152\n",
      "\n",
      "Epoch : 48 Training loss: 1.0941 \tTrain Accuracy: 0.9491 \tValidation loss: 1.1278 \tValidation Accuracy: 0.9156\n",
      "\n",
      "Epoch : 49 Training loss: 1.0929 \tTrain Accuracy: 0.9506 \tValidation loss: 1.1258 \tValidation Accuracy: 0.9176\n"
     ]
    }
   ],
   "source": [
    "N_EPOCHS = 50\n",
    "batch_size = 32\n",
    "\n",
    "# intialization\n",
    "best_valid_acc = 0\n",
    "\n",
    "for epoch in range(N_EPOCHS):\n",
    "     \n",
    "    #train the model\n",
    "    train_loss, train_acc  = train(X_train, Y_train, batch_size)\n",
    "    \n",
    "    #evaluate the model\n",
    "    valid_loss, valid_acc = evaluate(X_valid, Y_valid, batch_size)\n",
    "\n",
    "    print('\\nEpoch :',epoch,\n",
    "          'Training loss:',round(train_loss,4),\n",
    "          '\\tTrain Accuracy:',round(train_acc,4),\n",
    "          '\\tValidation loss:',round(valid_loss,4),\n",
    "          '\\tValidation Accuracy:',round(valid_acc,4))\n",
    "\n",
    "    #save the best model\n",
    "    if best_valid_acc <= valid_acc:\n",
    "        best_valid_acc = valid_acc\n",
    "        torch.save(model.state_dict(), 'saved_weights.pt') \n",
    "        print(\"\\n----------------------------------------------------Saved best model------------------------------------------------------------------\")   "
   ]
  },
  {
   "cell_type": "code",
   "execution_count": 30,
   "id": "bcd35d1d",
   "metadata": {
    "execution": {
     "iopub.execute_input": "2023-03-17T06:27:51.743040Z",
     "iopub.status.busy": "2023-03-17T06:27:51.742687Z",
     "iopub.status.idle": "2023-03-17T06:27:51.751513Z",
     "shell.execute_reply": "2023-03-17T06:27:51.750232Z"
    },
    "papermill": {
     "duration": 0.027998,
     "end_time": "2023-03-17T06:27:51.753588",
     "exception": false,
     "start_time": "2023-03-17T06:27:51.725590",
     "status": "completed"
    },
    "tags": []
   },
   "outputs": [
    {
     "data": {
      "text/plain": [
       "<All keys matched successfully>"
      ]
     },
     "execution_count": 30,
     "metadata": {},
     "output_type": "execute_result"
    }
   ],
   "source": [
    "path='saved_weights.pt'\n",
    "model.load_state_dict(torch.load(path))"
   ]
  },
  {
   "cell_type": "code",
   "execution_count": 31,
   "id": "9a57edf7",
   "metadata": {
    "execution": {
     "iopub.execute_input": "2023-03-17T06:27:51.787529Z",
     "iopub.status.busy": "2023-03-17T06:27:51.787205Z",
     "iopub.status.idle": "2023-03-17T06:27:51.870272Z",
     "shell.execute_reply": "2023-03-17T06:27:51.868729Z"
    },
    "papermill": {
     "duration": 0.102775,
     "end_time": "2023-03-17T06:27:51.872601",
     "exception": false,
     "start_time": "2023-03-17T06:27:51.769826",
     "status": "completed"
    },
    "tags": []
   },
   "outputs": [
    {
     "name": "stdout",
     "output_type": "stream",
     "text": [
      "Validation Accuracy: 91.86735734343529\n"
     ]
    }
   ],
   "source": [
    "# performance on validation set\n",
    "valid_loss, valid_accuracy = evaluate(X_valid,Y_valid,batch_size)\n",
    "\n",
    "print(\"Validation Accuracy:\",(valid_accuracy)*100)"
   ]
  },
  {
   "cell_type": "markdown",
   "id": "42a70cf1",
   "metadata": {
    "papermill": {
     "duration": 0.016316,
     "end_time": "2023-03-17T06:27:51.905694",
     "exception": false,
     "start_time": "2023-03-17T06:27:51.889378",
     "status": "completed"
    },
    "tags": []
   },
   "source": [
    "**On text data**"
   ]
  },
  {
   "cell_type": "code",
   "execution_count": 32,
   "id": "09bf9db3",
   "metadata": {
    "execution": {
     "iopub.execute_input": "2023-03-17T06:27:51.949534Z",
     "iopub.status.busy": "2023-03-17T06:27:51.949096Z",
     "iopub.status.idle": "2023-03-17T06:27:51.955835Z",
     "shell.execute_reply": "2023-03-17T06:27:51.954908Z"
    },
    "papermill": {
     "duration": 0.034514,
     "end_time": "2023-03-17T06:27:51.957948",
     "exception": false,
     "start_time": "2023-03-17T06:27:51.923434",
     "status": "completed"
    },
    "tags": []
   },
   "outputs": [],
   "source": [
    "def test_img_loader(path):\n",
    "    with open(path,\"rb\") as f:\n",
    "        img=Image.open(f)\n",
    "        return img.convert('RGB')\n",
    "        #return img"
   ]
  },
  {
   "cell_type": "code",
   "execution_count": 33,
   "id": "34b9d342",
   "metadata": {
    "execution": {
     "iopub.execute_input": "2023-03-17T06:27:51.992485Z",
     "iopub.status.busy": "2023-03-17T06:27:51.991542Z",
     "iopub.status.idle": "2023-03-17T06:27:52.022281Z",
     "shell.execute_reply": "2023-03-17T06:27:52.021332Z"
    },
    "papermill": {
     "duration": 0.049975,
     "end_time": "2023-03-17T06:27:52.024361",
     "exception": false,
     "start_time": "2023-03-17T06:27:51.974386",
     "status": "completed"
    },
    "tags": []
   },
   "outputs": [
    {
     "data": {
      "image/png": "[encoded data removed]",
      "text/plain": [
       "<PIL.Image.Image image mode=RGB size=150x150>"
      ]
     },
     "execution_count": 33,
     "metadata": {},
     "output_type": "execute_result"
    }
   ],
   "source": [
    "test_img_loader(\"/kaggle/input/scence-data/train/3.jpg\")"
   ]
  },
  {
   "cell_type": "code",
   "execution_count": 34,
   "id": "caf7365d",
   "metadata": {
    "execution": {
     "iopub.execute_input": "2023-03-17T06:27:52.060500Z",
     "iopub.status.busy": "2023-03-17T06:27:52.059481Z",
     "iopub.status.idle": "2023-03-17T06:27:52.066686Z",
     "shell.execute_reply": "2023-03-17T06:27:52.065776Z"
    },
    "papermill": {
     "duration": 0.02772,
     "end_time": "2023-03-17T06:27:52.068821",
     "exception": false,
     "start_time": "2023-03-17T06:27:52.041101",
     "status": "completed"
    },
    "tags": []
   },
   "outputs": [],
   "source": [
    "class Test_Scene_Data(Dataset):\n",
    "    def __init__(self,csv_path,img_dir,transform):\n",
    "        df_test=pd.read_csv(csv_path)\n",
    "        self.csv_path=csv_path\n",
    "        self.img_dir=img_dir\n",
    "        self.img_names=df_test.image_name.values\n",
    "        self.transform=transform\n",
    "        \n",
    "    def __getitem__(self,index):\n",
    "        img=test_img_loader(self.img_dir + self.img_names[index])\n",
    "        if self.transform is not None:\n",
    "            img=self.transform(img)\n",
    "            \n",
    "        return img\n",
    "    \n",
    "    def __len__(self):\n",
    "        return self.img_names.shape[0]\n",
    "            \n",
    "        \n",
    "        "
   ]
  },
  {
   "cell_type": "code",
   "execution_count": 35,
   "id": "74109f0b",
   "metadata": {
    "execution": {
     "iopub.execute_input": "2023-03-17T06:27:52.104956Z",
     "iopub.status.busy": "2023-03-17T06:27:52.103350Z",
     "iopub.status.idle": "2023-03-17T06:27:52.119930Z",
     "shell.execute_reply": "2023-03-17T06:27:52.119040Z"
    },
    "papermill": {
     "duration": 0.036581,
     "end_time": "2023-03-17T06:27:52.122178",
     "exception": false,
     "start_time": "2023-03-17T06:27:52.085597",
     "status": "completed"
    },
    "tags": []
   },
   "outputs": [],
   "source": [
    "test_dataset = Test_Scene_Data(csv_path=\"/kaggle/input/scence-data/test.csv\",\n",
    "                              img_dir='/kaggle/input/scence-data/train/',\n",
    "                              transform=preprocessing)"
   ]
  },
  {
   "cell_type": "code",
   "execution_count": 36,
   "id": "4a9a69e3",
   "metadata": {
    "execution": {
     "iopub.execute_input": "2023-03-17T06:27:52.157744Z",
     "iopub.status.busy": "2023-03-17T06:27:52.157417Z",
     "iopub.status.idle": "2023-03-17T06:27:52.162324Z",
     "shell.execute_reply": "2023-03-17T06:27:52.161299Z"
    },
    "papermill": {
     "duration": 0.024987,
     "end_time": "2023-03-17T06:27:52.164399",
     "exception": false,
     "start_time": "2023-03-17T06:27:52.139412",
     "status": "completed"
    },
    "tags": []
   },
   "outputs": [],
   "source": [
    "test_dataloader = DataLoader(dataset=test_dataset,batch_size=32,shuffle=True)"
   ]
  },
  {
   "cell_type": "code",
   "execution_count": 37,
   "id": "00217306",
   "metadata": {
    "execution": {
     "iopub.execute_input": "2023-03-17T06:27:52.199910Z",
     "iopub.status.busy": "2023-03-17T06:27:52.199604Z",
     "iopub.status.idle": "2023-03-17T06:27:52.205579Z",
     "shell.execute_reply": "2023-03-17T06:27:52.204645Z"
    },
    "papermill": {
     "duration": 0.025677,
     "end_time": "2023-03-17T06:27:52.207712",
     "exception": false,
     "start_time": "2023-03-17T06:27:52.182035",
     "status": "completed"
    },
    "tags": []
   },
   "outputs": [
    {
     "data": {
      "text/plain": [
       "<torch.utils.data.dataloader.DataLoader at 0x7f78ca7eb550>"
      ]
     },
     "execution_count": 37,
     "metadata": {},
     "output_type": "execute_result"
    }
   ],
   "source": [
    "test_dataloader"
   ]
  },
  {
   "cell_type": "code",
   "execution_count": 38,
   "id": "64bf8c31",
   "metadata": {
    "execution": {
     "iopub.execute_input": "2023-03-17T06:27:52.243355Z",
     "iopub.status.busy": "2023-03-17T06:27:52.242414Z",
     "iopub.status.idle": "2023-03-17T06:27:52.554412Z",
     "shell.execute_reply": "2023-03-17T06:27:52.553395Z"
    },
    "papermill": {
     "duration": 0.332543,
     "end_time": "2023-03-17T06:27:52.556889",
     "exception": false,
     "start_time": "2023-03-17T06:27:52.224346",
     "status": "completed"
    },
    "tags": []
   },
   "outputs": [],
   "source": [
    "for batch_idx, batch_x in enumerate(test_dataloader):\n",
    "    break"
   ]
  },
  {
   "cell_type": "code",
   "execution_count": 39,
   "id": "f9fe6d85",
   "metadata": {
    "execution": {
     "iopub.execute_input": "2023-03-17T06:27:52.592983Z",
     "iopub.status.busy": "2023-03-17T06:27:52.592085Z",
     "iopub.status.idle": "2023-03-17T06:27:52.598942Z",
     "shell.execute_reply": "2023-03-17T06:27:52.597845Z"
    },
    "papermill": {
     "duration": 0.027552,
     "end_time": "2023-03-17T06:27:52.601629",
     "exception": false,
     "start_time": "2023-03-17T06:27:52.574077",
     "status": "completed"
    },
    "tags": []
   },
   "outputs": [
    {
     "data": {
      "text/plain": [
       "torch.Size([32, 3, 240, 240])"
      ]
     },
     "execution_count": 39,
     "metadata": {},
     "output_type": "execute_result"
    }
   ],
   "source": [
    "batch_x.shape"
   ]
  },
  {
   "cell_type": "code",
   "execution_count": 40,
   "id": "ff0e96f4",
   "metadata": {
    "execution": {
     "iopub.execute_input": "2023-03-17T06:27:52.636693Z",
     "iopub.status.busy": "2023-03-17T06:27:52.635956Z",
     "iopub.status.idle": "2023-03-17T06:29:09.931434Z",
     "shell.execute_reply": "2023-03-17T06:29:09.929328Z"
    },
    "papermill": {
     "duration": 77.318231,
     "end_time": "2023-03-17T06:29:09.936606",
     "exception": false,
     "start_time": "2023-03-17T06:27:52.618375",
     "status": "completed"
    },
    "tags": []
   },
   "outputs": [],
   "source": [
    "#extract features\n",
    "\n",
    "features=[]\n",
    "elapsed_time=[]\n",
    "target=[]\n",
    "\n",
    "model.eval()\n",
    "\n",
    "with torch.no_grad():\n",
    "    \n",
    "    for idx,(batch_x) in enumerate(test_dataloader):\n",
    "        batch_x=batch_x.to(device)\n",
    "        \n",
    "        start=torch.cuda.Event(enable_timing=True)\n",
    "        end=torch.cuda.Event(enable_timing=True)\n",
    "        \n",
    "        start.record()\n",
    "        \n",
    "        batch_features = resnet(batch_x)\n",
    "        \n",
    "        end.record()\n",
    "        \n",
    "        torch.cuda.synchronize()\n",
    "        \n",
    "        batch_features = batch_features.data.cpu().numpy()\n",
    "        \n",
    "        features.append(batch_features)\n",
    "        \n",
    "        elapsed_time.append(start.elapsed_time(end))\n",
    "        \n",
    "  #save to the array\n",
    "features = np.concatenate(features, axis=0)      \n",
    "        \n",
    "        "
   ]
  },
  {
   "cell_type": "code",
   "execution_count": 41,
   "id": "12e18ad0",
   "metadata": {
    "execution": {
     "iopub.execute_input": "2023-03-17T06:29:10.022456Z",
     "iopub.status.busy": "2023-03-17T06:29:10.021705Z",
     "iopub.status.idle": "2023-03-17T06:29:10.038034Z",
     "shell.execute_reply": "2023-03-17T06:29:10.031495Z"
    },
    "papermill": {
     "duration": 0.061831,
     "end_time": "2023-03-17T06:29:10.041267",
     "exception": false,
     "start_time": "2023-03-17T06:29:09.979436",
     "status": "completed"
    },
    "tags": []
   },
   "outputs": [
    {
     "data": {
      "text/plain": [
       "(7301, 1000)"
      ]
     },
     "execution_count": 41,
     "metadata": {},
     "output_type": "execute_result"
    }
   ],
   "source": [
    "features.shape"
   ]
  },
  {
   "cell_type": "code",
   "execution_count": 42,
   "id": "8c785e60",
   "metadata": {
    "execution": {
     "iopub.execute_input": "2023-03-17T06:29:10.100304Z",
     "iopub.status.busy": "2023-03-17T06:29:10.099791Z",
     "iopub.status.idle": "2023-03-17T06:29:10.107696Z",
     "shell.execute_reply": "2023-03-17T06:29:10.106617Z"
    },
    "papermill": {
     "duration": 0.03983,
     "end_time": "2023-03-17T06:29:10.110204",
     "exception": false,
     "start_time": "2023-03-17T06:29:10.070374",
     "status": "completed"
    },
    "tags": []
   },
   "outputs": [
    {
     "data": {
      "text/plain": [
       "(7301, 1000)"
      ]
     },
     "execution_count": 42,
     "metadata": {},
     "output_type": "execute_result"
    }
   ],
   "source": [
    "#flattening features\n",
    "features=features.reshape(len(features),-1)\n",
    "features.shape"
   ]
  },
  {
   "cell_type": "code",
   "execution_count": 43,
   "id": "c55809d5",
   "metadata": {
    "execution": {
     "iopub.execute_input": "2023-03-17T06:29:10.161672Z",
     "iopub.status.busy": "2023-03-17T06:29:10.161295Z",
     "iopub.status.idle": "2023-03-17T06:29:10.166358Z",
     "shell.execute_reply": "2023-03-17T06:29:10.165316Z"
    },
    "papermill": {
     "duration": 0.035224,
     "end_time": "2023-03-17T06:29:10.169873",
     "exception": false,
     "start_time": "2023-03-17T06:29:10.134649",
     "status": "completed"
    },
    "tags": []
   },
   "outputs": [],
   "source": [
    "X_test_img = torch.FloatTensor(features)"
   ]
  },
  {
   "cell_type": "code",
   "execution_count": 44,
   "id": "580ee7ca",
   "metadata": {
    "execution": {
     "iopub.execute_input": "2023-03-17T06:29:10.221315Z",
     "iopub.status.busy": "2023-03-17T06:29:10.220930Z",
     "iopub.status.idle": "2023-03-17T06:29:10.227233Z",
     "shell.execute_reply": "2023-03-17T06:29:10.226322Z"
    },
    "papermill": {
     "duration": 0.038505,
     "end_time": "2023-03-17T06:29:10.232928",
     "exception": false,
     "start_time": "2023-03-17T06:29:10.194423",
     "status": "completed"
    },
    "tags": []
   },
   "outputs": [
    {
     "data": {
      "text/plain": [
       "torch.Size([7301, 1000])"
      ]
     },
     "execution_count": 44,
     "metadata": {},
     "output_type": "execute_result"
    }
   ],
   "source": [
    "X_test_img.shape"
   ]
  },
  {
   "cell_type": "code",
   "execution_count": 45,
   "id": "6e7fecb4",
   "metadata": {
    "execution": {
     "iopub.execute_input": "2023-03-17T06:29:10.285384Z",
     "iopub.status.busy": "2023-03-17T06:29:10.284959Z",
     "iopub.status.idle": "2023-03-17T06:29:10.371261Z",
     "shell.execute_reply": "2023-03-17T06:29:10.370267Z"
    },
    "papermill": {
     "duration": 0.11578,
     "end_time": "2023-03-17T06:29:10.374010",
     "exception": false,
     "start_time": "2023-03-17T06:29:10.258230",
     "status": "completed"
    },
    "tags": []
   },
   "outputs": [
    {
     "data": {
      "text/plain": [
       "array([[3.6166575e-06, 2.4005368e-25, 1.5359629e-21, 1.3628647e-15,\n",
       "        1.7245793e-04, 9.9982399e-01],\n",
       "       [1.1476634e-42, 1.7399128e-26, 1.0000000e+00, 3.2194513e-14,\n",
       "        2.0630904e-30, 1.8479740e-30],\n",
       "       [2.4662853e-43, 1.9207598e-41, 1.0000000e+00, 2.9553112e-13,\n",
       "        2.3635955e-37, 1.9909434e-33],\n",
       "       ...,\n",
       "       [6.3045641e-31, 3.0380151e-41, 4.1525890e-24, 4.0855680e-27,\n",
       "        1.0000000e+00, 1.5718619e-34],\n",
       "       [2.7063417e-40, 2.1496440e-27, 1.0000000e+00, 8.1689160e-26,\n",
       "        1.2887530e-27, 6.2824498e-39],\n",
       "       [3.3752575e-17, 1.0000000e+00, 0.0000000e+00, 0.0000000e+00,\n",
       "        5.7186990e-42, 5.0761294e-39]], dtype=float32)"
      ]
     },
     "execution_count": 45,
     "metadata": {},
     "output_type": "execute_result"
    }
   ],
   "source": [
    "# predictions of test set\n",
    "predicted = predict(X_test_img,batch_size)\n",
    "predicted"
   ]
  },
  {
   "cell_type": "code",
   "execution_count": 46,
   "id": "d6efebd5",
   "metadata": {
    "execution": {
     "iopub.execute_input": "2023-03-17T06:29:10.426913Z",
     "iopub.status.busy": "2023-03-17T06:29:10.426517Z",
     "iopub.status.idle": "2023-03-17T06:29:10.433310Z",
     "shell.execute_reply": "2023-03-17T06:29:10.432420Z"
    },
    "papermill": {
     "duration": 0.038171,
     "end_time": "2023-03-17T06:29:10.438765",
     "exception": false,
     "start_time": "2023-03-17T06:29:10.400594",
     "status": "completed"
    },
    "tags": []
   },
   "outputs": [
    {
     "data": {
      "text/plain": [
       "array([5, 2, 2, ..., 4, 2, 1])"
      ]
     },
     "execution_count": 46,
     "metadata": {},
     "output_type": "execute_result"
    }
   ],
   "source": [
    "test_result = np.argmax(predicted,axis=1) \n",
    "test_result"
   ]
  },
  {
   "cell_type": "code",
   "execution_count": 47,
   "id": "e926c881",
   "metadata": {
    "execution": {
     "iopub.execute_input": "2023-03-17T06:29:10.505644Z",
     "iopub.status.busy": "2023-03-17T06:29:10.505041Z",
     "iopub.status.idle": "2023-03-17T06:29:10.519446Z",
     "shell.execute_reply": "2023-03-17T06:29:10.518340Z"
    },
    "papermill": {
     "duration": 0.055461,
     "end_time": "2023-03-17T06:29:10.521803",
     "exception": false,
     "start_time": "2023-03-17T06:29:10.466342",
     "status": "completed"
    },
    "tags": []
   },
   "outputs": [
    {
     "data": {
      "text/html": [
       "<div>\n",
       "<style scoped>\n",
       "    .dataframe tbody tr th:only-of-type {\n",
       "        vertical-align: middle;\n",
       "    }\n",
       "\n",
       "    .dataframe tbody tr th {\n",
       "        vertical-align: top;\n",
       "    }\n",
       "\n",
       "    .dataframe thead th {\n",
       "        text-align: right;\n",
       "    }\n",
       "</style>\n",
       "<table border=\"1\" class=\"dataframe\">\n",
       "  <thead>\n",
       "    <tr style=\"text-align: right;\">\n",
       "      <th></th>\n",
       "      <th>image_name</th>\n",
       "      <th>label</th>\n",
       "    </tr>\n",
       "  </thead>\n",
       "  <tbody>\n",
       "    <tr>\n",
       "      <th>0</th>\n",
       "      <td>3.jpg</td>\n",
       "      <td>5</td>\n",
       "    </tr>\n",
       "    <tr>\n",
       "      <th>1</th>\n",
       "      <td>5.jpg</td>\n",
       "      <td>2</td>\n",
       "    </tr>\n",
       "    <tr>\n",
       "      <th>2</th>\n",
       "      <td>6.jpg</td>\n",
       "      <td>2</td>\n",
       "    </tr>\n",
       "    <tr>\n",
       "      <th>3</th>\n",
       "      <td>11.jpg</td>\n",
       "      <td>1</td>\n",
       "    </tr>\n",
       "    <tr>\n",
       "      <th>4</th>\n",
       "      <td>14.jpg</td>\n",
       "      <td>1</td>\n",
       "    </tr>\n",
       "    <tr>\n",
       "      <th>5</th>\n",
       "      <td>22.jpg</td>\n",
       "      <td>5</td>\n",
       "    </tr>\n",
       "    <tr>\n",
       "      <th>6</th>\n",
       "      <td>25.jpg</td>\n",
       "      <td>1</td>\n",
       "    </tr>\n",
       "    <tr>\n",
       "      <th>7</th>\n",
       "      <td>28.jpg</td>\n",
       "      <td>0</td>\n",
       "    </tr>\n",
       "    <tr>\n",
       "      <th>8</th>\n",
       "      <td>30.jpg</td>\n",
       "      <td>2</td>\n",
       "    </tr>\n",
       "    <tr>\n",
       "      <th>9</th>\n",
       "      <td>38.jpg</td>\n",
       "      <td>3</td>\n",
       "    </tr>\n",
       "    <tr>\n",
       "      <th>10</th>\n",
       "      <td>51.jpg</td>\n",
       "      <td>1</td>\n",
       "    </tr>\n",
       "    <tr>\n",
       "      <th>11</th>\n",
       "      <td>52.jpg</td>\n",
       "      <td>0</td>\n",
       "    </tr>\n",
       "    <tr>\n",
       "      <th>12</th>\n",
       "      <td>61.jpg</td>\n",
       "      <td>2</td>\n",
       "    </tr>\n",
       "    <tr>\n",
       "      <th>13</th>\n",
       "      <td>63.jpg</td>\n",
       "      <td>3</td>\n",
       "    </tr>\n",
       "    <tr>\n",
       "      <th>14</th>\n",
       "      <td>64.jpg</td>\n",
       "      <td>5</td>\n",
       "    </tr>\n",
       "  </tbody>\n",
       "</table>\n",
       "</div>"
      ],
      "text/plain": [
       "   image_name  label\n",
       "0       3.jpg      5\n",
       "1       5.jpg      2\n",
       "2       6.jpg      2\n",
       "3      11.jpg      1\n",
       "4      14.jpg      1\n",
       "5      22.jpg      5\n",
       "6      25.jpg      1\n",
       "7      28.jpg      0\n",
       "8      30.jpg      2\n",
       "9      38.jpg      3\n",
       "10     51.jpg      1\n",
       "11     52.jpg      0\n",
       "12     61.jpg      2\n",
       "13     63.jpg      3\n",
       "14     64.jpg      5"
      ]
     },
     "execution_count": 47,
     "metadata": {},
     "output_type": "execute_result"
    }
   ],
   "source": [
    "df = pd.DataFrame(test_dataset.img_names,columns=['image_name'])\n",
    "df['label'] = test_result\n",
    "\n",
    "\n",
    "df.head(15)"
   ]
  },
  {
   "cell_type": "code",
   "execution_count": 48,
   "id": "8a9c9cc5",
   "metadata": {
    "execution": {
     "iopub.execute_input": "2023-03-17T06:29:10.558060Z",
     "iopub.status.busy": "2023-03-17T06:29:10.557732Z",
     "iopub.status.idle": "2023-03-17T06:29:10.570936Z",
     "shell.execute_reply": "2023-03-17T06:29:10.570067Z"
    },
    "papermill": {
     "duration": 0.033612,
     "end_time": "2023-03-17T06:29:10.572984",
     "exception": false,
     "start_time": "2023-03-17T06:29:10.539372",
     "status": "completed"
    },
    "tags": []
   },
   "outputs": [],
   "source": [
    "# saving the  results\n",
    "df.to_csv('test_result.csv', index=False,  header = True)"
   ]
  },
  {
   "cell_type": "code",
   "execution_count": 49,
   "id": "160951b1",
   "metadata": {
    "execution": {
     "iopub.execute_input": "2023-03-17T06:29:10.609170Z",
     "iopub.status.busy": "2023-03-17T06:29:10.608856Z",
     "iopub.status.idle": "2023-03-17T06:29:10.614402Z",
     "shell.execute_reply": "2023-03-17T06:29:10.613517Z"
    },
    "papermill": {
     "duration": 0.026173,
     "end_time": "2023-03-17T06:29:10.616581",
     "exception": false,
     "start_time": "2023-03-17T06:29:10.590408",
     "status": "completed"
    },
    "tags": []
   },
   "outputs": [],
   "source": [
    "i1=test_img_loader(\"/kaggle/input/scence-data/train/5.jpg\")"
   ]
  },
  {
   "cell_type": "code",
   "execution_count": 50,
   "id": "0028b6d4",
   "metadata": {
    "execution": {
     "iopub.execute_input": "2023-03-17T06:29:10.652845Z",
     "iopub.status.busy": "2023-03-17T06:29:10.652543Z",
     "iopub.status.idle": "2023-03-17T06:29:10.666710Z",
     "shell.execute_reply": "2023-03-17T06:29:10.665740Z"
    },
    "papermill": {
     "duration": 0.03493,
     "end_time": "2023-03-17T06:29:10.668840",
     "exception": false,
     "start_time": "2023-03-17T06:29:10.633910",
     "status": "completed"
    },
    "tags": []
   },
   "outputs": [
    {
     "data": {
      "image/png": "[encoded data removed]",
      "text/plain": [
       "<PIL.Image.Image image mode=RGB size=150x150>"
      ]
     },
     "execution_count": 50,
     "metadata": {},
     "output_type": "execute_result"
    }
   ],
   "source": [
    "i1"
   ]
  },
  {
   "cell_type": "code",
   "execution_count": 51,
   "id": "5aa81484",
   "metadata": {
    "execution": {
     "iopub.execute_input": "2023-03-17T06:29:10.707133Z",
     "iopub.status.busy": "2023-03-17T06:29:10.706128Z",
     "iopub.status.idle": "2023-03-17T06:29:10.714548Z",
     "shell.execute_reply": "2023-03-17T06:29:10.713470Z"
    },
    "papermill": {
     "duration": 0.029756,
     "end_time": "2023-03-17T06:29:10.716669",
     "exception": false,
     "start_time": "2023-03-17T06:29:10.686913",
     "status": "completed"
    },
    "tags": []
   },
   "outputs": [
    {
     "data": {
      "text/plain": [
       "torch.Size([3, 240, 240])"
      ]
     },
     "execution_count": 51,
     "metadata": {},
     "output_type": "execute_result"
    }
   ],
   "source": [
    "i1=preprocessing(i1)\n",
    "\n",
    "i1.shape"
   ]
  },
  {
   "cell_type": "code",
   "execution_count": 52,
   "id": "e7739567",
   "metadata": {
    "execution": {
     "iopub.execute_input": "2023-03-17T06:29:10.755544Z",
     "iopub.status.busy": "2023-03-17T06:29:10.754542Z",
     "iopub.status.idle": "2023-03-17T06:29:10.762176Z",
     "shell.execute_reply": "2023-03-17T06:29:10.761094Z"
    },
    "papermill": {
     "duration": 0.029502,
     "end_time": "2023-03-17T06:29:10.764254",
     "exception": false,
     "start_time": "2023-03-17T06:29:10.734752",
     "status": "completed"
    },
    "tags": []
   },
   "outputs": [
    {
     "data": {
      "text/plain": [
       "torch.Size([1, 3, 240, 240])"
      ]
     },
     "execution_count": 52,
     "metadata": {},
     "output_type": "execute_result"
    }
   ],
   "source": [
    "i1=i1.unsqueeze(0)\n",
    "i1=i1.to(device)\n",
    "i1.shape"
   ]
  },
  {
   "cell_type": "code",
   "execution_count": 53,
   "id": "e7a8f7f4",
   "metadata": {
    "execution": {
     "iopub.execute_input": "2023-03-17T06:29:10.803274Z",
     "iopub.status.busy": "2023-03-17T06:29:10.801674Z",
     "iopub.status.idle": "2023-03-17T06:29:10.822915Z",
     "shell.execute_reply": "2023-03-17T06:29:10.821719Z"
    },
    "papermill": {
     "duration": 0.042626,
     "end_time": "2023-03-17T06:29:10.825082",
     "exception": false,
     "start_time": "2023-03-17T06:29:10.782456",
     "status": "completed"
    },
    "tags": []
   },
   "outputs": [],
   "source": [
    "feat=resnet(i1)"
   ]
  },
  {
   "cell_type": "code",
   "execution_count": 54,
   "id": "6bea2f8a",
   "metadata": {
    "execution": {
     "iopub.execute_input": "2023-03-17T06:29:10.863502Z",
     "iopub.status.busy": "2023-03-17T06:29:10.862671Z",
     "iopub.status.idle": "2023-03-17T06:29:10.868365Z",
     "shell.execute_reply": "2023-03-17T06:29:10.867457Z"
    },
    "papermill": {
     "duration": 0.026966,
     "end_time": "2023-03-17T06:29:10.870461",
     "exception": false,
     "start_time": "2023-03-17T06:29:10.843495",
     "status": "completed"
    },
    "tags": []
   },
   "outputs": [],
   "source": [
    "feat=feat.data.cpu().numpy()"
   ]
  },
  {
   "cell_type": "code",
   "execution_count": 55,
   "id": "7a47c9f7",
   "metadata": {
    "execution": {
     "iopub.execute_input": "2023-03-17T06:29:10.908931Z",
     "iopub.status.busy": "2023-03-17T06:29:10.908031Z",
     "iopub.status.idle": "2023-03-17T06:29:10.913239Z",
     "shell.execute_reply": "2023-03-17T06:29:10.912354Z"
    },
    "papermill": {
     "duration": 0.026498,
     "end_time": "2023-03-17T06:29:10.915276",
     "exception": false,
     "start_time": "2023-03-17T06:29:10.888778",
     "status": "completed"
    },
    "tags": []
   },
   "outputs": [],
   "source": [
    "X1 = torch.FloatTensor(feat)\n"
   ]
  },
  {
   "cell_type": "code",
   "execution_count": 56,
   "id": "00c5d55d",
   "metadata": {
    "execution": {
     "iopub.execute_input": "2023-03-17T06:29:10.954565Z",
     "iopub.status.busy": "2023-03-17T06:29:10.953561Z",
     "iopub.status.idle": "2023-03-17T06:29:10.960735Z",
     "shell.execute_reply": "2023-03-17T06:29:10.959634Z"
    },
    "papermill": {
     "duration": 0.029965,
     "end_time": "2023-03-17T06:29:10.963698",
     "exception": false,
     "start_time": "2023-03-17T06:29:10.933733",
     "status": "completed"
    },
    "tags": []
   },
   "outputs": [
    {
     "name": "stderr",
     "output_type": "stream",
     "text": [
      "/opt/conda/lib/python3.7/site-packages/torch/nn/modules/container.py:204: UserWarning: Implicit dimension choice for softmax has been deprecated. Change the call to include dim=X as an argument.\n",
      "  input = module(input)\n"
     ]
    }
   ],
   "source": [
    "model.eval()\n",
    "with torch.no_grad():\n",
    "    X1=X1.to(device)\n",
    "    \n",
    "    out=model(X1)\n",
    "    out = out.squeeze()\n",
    "    \n",
    "\n",
    "        # convert to numpy array\n",
    "    prediction = out.data.cpu().numpy()\n",
    "    "
   ]
  },
  {
   "cell_type": "code",
   "execution_count": 57,
   "id": "9e255104",
   "metadata": {
    "execution": {
     "iopub.execute_input": "2023-03-17T06:29:11.002941Z",
     "iopub.status.busy": "2023-03-17T06:29:11.002035Z",
     "iopub.status.idle": "2023-03-17T06:29:11.010624Z",
     "shell.execute_reply": "2023-03-17T06:29:11.009701Z"
    },
    "papermill": {
     "duration": 0.030474,
     "end_time": "2023-03-17T06:29:11.012850",
     "exception": false,
     "start_time": "2023-03-17T06:29:10.982376",
     "status": "completed"
    },
    "tags": []
   },
   "outputs": [
    {
     "data": {
      "text/plain": [
       "array([1.0000000e+00, 0.0000000e+00, 0.0000000e+00, 1.8525166e-41,\n",
       "       3.8757513e-31, 2.8068633e-35], dtype=float32)"
      ]
     },
     "execution_count": 57,
     "metadata": {},
     "output_type": "execute_result"
    }
   ],
   "source": [
    "prediction"
   ]
  },
  {
   "cell_type": "code",
   "execution_count": 58,
   "id": "2ada9c26",
   "metadata": {
    "execution": {
     "iopub.execute_input": "2023-03-17T06:29:11.052238Z",
     "iopub.status.busy": "2023-03-17T06:29:11.051329Z",
     "iopub.status.idle": "2023-03-17T06:29:11.060067Z",
     "shell.execute_reply": "2023-03-17T06:29:11.059092Z"
    },
    "papermill": {
     "duration": 0.030777,
     "end_time": "2023-03-17T06:29:11.062259",
     "exception": false,
     "start_time": "2023-03-17T06:29:11.031482",
     "status": "completed"
    },
    "tags": []
   },
   "outputs": [
    {
     "data": {
      "text/plain": [
       "0"
      ]
     },
     "execution_count": 58,
     "metadata": {},
     "output_type": "execute_result"
    }
   ],
   "source": [
    "test_result = np.argmax(prediction,axis=0) \n",
    "test_result"
   ]
  },
  {
   "cell_type": "code",
   "execution_count": 59,
   "id": "b445157b",
   "metadata": {
    "execution": {
     "iopub.execute_input": "2023-03-17T06:29:11.100959Z",
     "iopub.status.busy": "2023-03-17T06:29:11.100654Z",
     "iopub.status.idle": "2023-03-17T06:29:11.106136Z",
     "shell.execute_reply": "2023-03-17T06:29:11.105101Z"
    },
    "papermill": {
     "duration": 0.027322,
     "end_time": "2023-03-17T06:29:11.108413",
     "exception": false,
     "start_time": "2023-03-17T06:29:11.081091",
     "status": "completed"
    },
    "tags": []
   },
   "outputs": [],
   "source": [
    "def mapp_img(label):\n",
    "    if label==0:\n",
    "        l=\"Buildings\"\n",
    "    elif label==1:\n",
    "        l=\"Forest\"\n",
    "    elif label==2:\n",
    "        l=\"Glaciers\"\n",
    "    elif label==3:\n",
    "        l=\"Mountain\"\n",
    "    elif label==4:\n",
    "        l=\"Sea\"\n",
    "    elif label==5:\n",
    "        l=\"Street\"\n",
    "    \n",
    "    return l\n",
    "#label.map({0:'Buildings',1:\"Forest\",2:\"Glacier\",3:\"Mountain\",4:\"Sea\",5:\"Street\"})\n"
   ]
  },
  {
   "cell_type": "code",
   "execution_count": 60,
   "id": "23fb453b",
   "metadata": {
    "execution": {
     "iopub.execute_input": "2023-03-17T06:29:11.147289Z",
     "iopub.status.busy": "2023-03-17T06:29:11.146443Z",
     "iopub.status.idle": "2023-03-17T06:29:11.153688Z",
     "shell.execute_reply": "2023-03-17T06:29:11.152692Z"
    },
    "papermill": {
     "duration": 0.028728,
     "end_time": "2023-03-17T06:29:11.155702",
     "exception": false,
     "start_time": "2023-03-17T06:29:11.126974",
     "status": "completed"
    },
    "tags": []
   },
   "outputs": [],
   "source": [
    "def single_img(path):\n",
    "    \n",
    "    i1=test_img_loader(path)\n",
    "    \n",
    "    i2=preprocessing(i1)\n",
    "    \n",
    "    i2=i2.unsqueeze(0)\n",
    "    i2=i2.to(device)\n",
    "    \n",
    "    \n",
    "    feat=resnet(i2)\n",
    "    feat=feat.data.cpu().numpy()\n",
    "    \n",
    "    X1 = torch.FloatTensor(feat)\n",
    "    \n",
    "    model.eval()\n",
    "    with torch.no_grad():\n",
    "        X1=X1.to(device)\n",
    "    \n",
    "        out=model(X1)\n",
    "        out = out.squeeze()\n",
    "    \n",
    "\n",
    "        # convert to numpy array\n",
    "        prediction = out.data.cpu().numpy()\n",
    "        \n",
    "    test_result = np.argmax(prediction,axis=0)\n",
    "    #test_result=list(test_result)\n",
    "    \n",
    "    test_result=mapp_img(test_result)\n",
    "    \n",
    "\n",
    "    \n",
    "    return test_result\n",
    "\n",
    "    \n",
    "    \n",
    "    "
   ]
  },
  {
   "cell_type": "code",
   "execution_count": 61,
   "id": "ee342583",
   "metadata": {
    "execution": {
     "iopub.execute_input": "2023-03-17T06:29:11.194949Z",
     "iopub.status.busy": "2023-03-17T06:29:11.193899Z",
     "iopub.status.idle": "2023-03-17T06:29:11.212003Z",
     "shell.execute_reply": "2023-03-17T06:29:11.211087Z"
    },
    "papermill": {
     "duration": 0.039982,
     "end_time": "2023-03-17T06:29:11.214198",
     "exception": false,
     "start_time": "2023-03-17T06:29:11.174216",
     "status": "completed"
    },
    "tags": []
   },
   "outputs": [
    {
     "data": {
      "text/plain": [
       "'Glaciers'"
      ]
     },
     "execution_count": 61,
     "metadata": {},
     "output_type": "execute_result"
    }
   ],
   "source": [
    "#import random\n",
    "#ind=random.randint(0,1000)\n",
    "#print(ind)\n",
    "\n",
    "\n",
    "\n",
    "\n",
    "#single_img(\"/kaggle/input/scence-data/train/{}.jpg\".format(ab))\n",
    "single_img(\"/kaggle/input/scence-data/train/24.jpg\")"
   ]
  },
  {
   "cell_type": "code",
   "execution_count": 62,
   "id": "c8206cb8",
   "metadata": {
    "execution": {
     "iopub.execute_input": "2023-03-17T06:29:11.252662Z",
     "iopub.status.busy": "2023-03-17T06:29:11.252359Z",
     "iopub.status.idle": "2023-03-17T06:29:11.265992Z",
     "shell.execute_reply": "2023-03-17T06:29:11.264910Z"
    },
    "papermill": {
     "duration": 0.035697,
     "end_time": "2023-03-17T06:29:11.268612",
     "exception": false,
     "start_time": "2023-03-17T06:29:11.232915",
     "status": "completed"
    },
    "tags": []
   },
   "outputs": [
    {
     "data": {
      "image/png": "[encoded data removed]",
      "text/plain": [
       "<PIL.Image.Image image mode=RGB size=150x150>"
      ]
     },
     "execution_count": 62,
     "metadata": {},
     "output_type": "execute_result"
    }
   ],
   "source": [
    "path=\"/kaggle/input/scence-data/train/25.jpg\"\n",
    "img_nu = test_img_loader(path)\n",
    "img_nu"
   ]
  },
  {
   "cell_type": "code",
   "execution_count": 63,
   "id": "8a11bace",
   "metadata": {
    "execution": {
     "iopub.execute_input": "2023-03-17T06:29:11.308085Z",
     "iopub.status.busy": "2023-03-17T06:29:11.307746Z",
     "iopub.status.idle": "2023-03-17T06:29:11.324283Z",
     "shell.execute_reply": "2023-03-17T06:29:11.323193Z"
    },
    "papermill": {
     "duration": 0.038816,
     "end_time": "2023-03-17T06:29:11.326559",
     "exception": false,
     "start_time": "2023-03-17T06:29:11.287743",
     "status": "completed"
    },
    "tags": []
   },
   "outputs": [
    {
     "data": {
      "text/plain": [
       "'Sea'"
      ]
     },
     "execution_count": 63,
     "metadata": {},
     "output_type": "execute_result"
    }
   ],
   "source": [
    "single_img(path)"
   ]
  },
  {
   "cell_type": "code",
   "execution_count": null,
   "id": "3c579666",
   "metadata": {
    "papermill": {
     "duration": 0.018882,
     "end_time": "2023-03-17T06:29:11.365330",
     "exception": false,
     "start_time": "2023-03-17T06:29:11.346448",
     "status": "completed"
    },
    "tags": []
   },
   "outputs": [],
   "source": []
  }
 ],
 "metadata": {
  "kernelspec": {
   "display_name": "Python 3",
   "language": "python",
   "name": "python3"
  },
  "language_info": {
   "codemirror_mode": {
    "name": "ipython",
    "version": 3
   },
   "file_extension": ".py",
   "mimetype": "text/x-python",
   "name": "python",
   "nbconvert_exporter": "python",
   "pygments_lexer": "ipython3",
   "version": "3.7.12"
  },
  "papermill": {
   "default_parameters": {},
   "duration": 320.733386,
   "end_time": "2023-03-17T06:29:13.109751",
   "environment_variables": {},
   "exception": null,
   "input_path": "__notebook__.ipynb",
   "output_path": "__notebook__.ipynb",
   "parameters": {},
   "start_time": "2023-03-17T06:23:52.376365",
   "version": "2.4.0"
  },
  "widgets": {
   "application/vnd.jupyter.widget-state+json": {
    "state": {
     "0406d1929ac64aac8f113d841b015a17": {
      "model_module": "@jupyter-widgets/controls",
      "model_module_version": "1.5.0",
      "model_name": "HTMLModel",
      "state": {
       "_dom_classes": [],
       "_model_module": "@jupyter-widgets/controls",
       "_model_module_version": "1.5.0",
       "_model_name": "HTMLModel",
       "_view_count": null,
       "_view_module": "@jupyter-widgets/controls",
       "_view_module_version": "1.5.0",
       "_view_name": "HTMLView",
       "description": "",
       "description_tooltip": null,
       "layout": "IPY_MODEL_560bac454c744e7fb3fa2c6bb3d9109c",
       "placeholder": "​",
       "style": "IPY_MODEL_8c2605abe5204cc797d06671ebca254c",
       "value": "100%"
      }
     },
     "37f1035627a14a708d960c2b103fb13d": {
      "model_module": "@jupyter-widgets/controls",
      "model_module_version": "1.5.0",
      "model_name": "HBoxModel",
      "state": {
       "_dom_classes": [],
       "_model_module": "@jupyter-widgets/controls",
       "_model_module_version": "1.5.0",
       "_model_name": "HBoxModel",
       "_view_count": null,
       "_view_module": "@jupyter-widgets/controls",
       "_view_module_version": "1.5.0",
       "_view_name": "HBoxView",
       "box_style": "",
       "children": [
        "IPY_MODEL_0406d1929ac64aac8f113d841b015a17",
        "IPY_MODEL_f72c2e9cb334436caa102a23363650bf",
        "IPY_MODEL_ef5d4fa6762d422ca6f51c94dd4c2382"
       ],
       "layout": "IPY_MODEL_68bd29969bd14f2d95ebc46a1a1ebfbf"
      }
     },
     "560bac454c744e7fb3fa2c6bb3d9109c": {
      "model_module": "@jupyter-widgets/base",
      "model_module_version": "1.2.0",
      "model_name": "LayoutModel",
      "state": {
       "_model_module": "@jupyter-widgets/base",
       "_model_module_version": "1.2.0",
       "_model_name": "LayoutModel",
       "_view_count": null,
       "_view_module": "@jupyter-widgets/base",
       "_view_module_version": "1.2.0",
       "_view_name": "LayoutView",
       "align_content": null,
       "align_items": null,
       "align_self": null,
       "border": null,
       "bottom": null,
       "display": null,
       "flex": null,
       "flex_flow": null,
       "grid_area": null,
       "grid_auto_columns": null,
       "grid_auto_flow": null,
       "grid_auto_rows": null,
       "grid_column": null,
       "grid_gap": null,
       "grid_row": null,
       "grid_template_areas": null,
       "grid_template_columns": null,
       "grid_template_rows": null,
       "height": null,
       "justify_content": null,
       "justify_items": null,
       "left": null,
       "margin": null,
       "max_height": null,
       "max_width": null,
       "min_height": null,
       "min_width": null,
       "object_fit": null,
       "object_position": null,
       "order": null,
       "overflow": null,
       "overflow_x": null,
       "overflow_y": null,
       "padding": null,
       "right": null,
       "top": null,
       "visibility": null,
       "width": null
      }
     },
     "616f363904d94364b15ecd36c80c481e": {
      "model_module": "@jupyter-widgets/base",
      "model_module_version": "1.2.0",
      "model_name": "LayoutModel",
      "state": {
       "_model_module": "@jupyter-widgets/base",
       "_model_module_version": "1.2.0",
       "_model_name": "LayoutModel",
       "_view_count": null,
       "_view_module": "@jupyter-widgets/base",
       "_view_module_version": "1.2.0",
       "_view_name": "LayoutView",
       "align_content": null,
       "align_items": null,
       "align_self": null,
       "border": null,
       "bottom": null,
       "display": null,
       "flex": null,
       "flex_flow": null,
       "grid_area": null,
       "grid_auto_columns": null,
       "grid_auto_flow": null,
       "grid_auto_rows": null,
       "grid_column": null,
       "grid_gap": null,
       "grid_row": null,
       "grid_template_areas": null,
       "grid_template_columns": null,
       "grid_template_rows": null,
       "height": null,
       "justify_content": null,
       "justify_items": null,
       "left": null,
       "margin": null,
       "max_height": null,
       "max_width": null,
       "min_height": null,
       "min_width": null,
       "object_fit": null,
       "object_position": null,
       "order": null,
       "overflow": null,
       "overflow_x": null,
       "overflow_y": null,
       "padding": null,
       "right": null,
       "top": null,
       "visibility": null,
       "width": null
      }
     },
     "68bd29969bd14f2d95ebc46a1a1ebfbf": {
      "model_module": "@jupyter-widgets/base",
      "model_module_version": "1.2.0",
      "model_name": "LayoutModel",
      "state": {
       "_model_module": "@jupyter-widgets/base",
       "_model_module_version": "1.2.0",
       "_model_name": "LayoutModel",
       "_view_count": null,
       "_view_module": "@jupyter-widgets/base",
       "_view_module_version": "1.2.0",
       "_view_name": "LayoutView",
       "align_content": null,
       "align_items": null,
       "align_self": null,
       "border": null,
       "bottom": null,
       "display": null,
       "flex": null,
       "flex_flow": null,
       "grid_area": null,
       "grid_auto_columns": null,
       "grid_auto_flow": null,
       "grid_auto_rows": null,
       "grid_column": null,
       "grid_gap": null,
       "grid_row": null,
       "grid_template_areas": null,
       "grid_template_columns": null,
       "grid_template_rows": null,
       "height": null,
       "justify_content": null,
       "justify_items": null,
       "left": null,
       "margin": null,
       "max_height": null,
       "max_width": null,
       "min_height": null,
       "min_width": null,
       "object_fit": null,
       "object_position": null,
       "order": null,
       "overflow": null,
       "overflow_x": null,
       "overflow_y": null,
       "padding": null,
       "right": null,
       "top": null,
       "visibility": null,
       "width": null
      }
     },
     "70765840b9b844779dd1072dcec3b623": {
      "model_module": "@jupyter-widgets/controls",
      "model_module_version": "1.5.0",
      "model_name": "ProgressStyleModel",
      "state": {
       "_model_module": "@jupyter-widgets/controls",
       "_model_module_version": "1.5.0",
       "_model_name": "ProgressStyleModel",
       "_view_count": null,
       "_view_module": "@jupyter-widgets/base",
       "_view_module_version": "1.2.0",
       "_view_name": "StyleView",
       "bar_color": null,
       "description_width": ""
      }
     },
     "8c2605abe5204cc797d06671ebca254c": {
      "model_module": "@jupyter-widgets/controls",
      "model_module_version": "1.5.0",
      "model_name": "DescriptionStyleModel",
      "state": {
       "_model_module": "@jupyter-widgets/controls",
       "_model_module_version": "1.5.0",
       "_model_name": "DescriptionStyleModel",
       "_view_count": null,
       "_view_module": "@jupyter-widgets/base",
       "_view_module_version": "1.2.0",
       "_view_name": "StyleView",
       "description_width": ""
      }
     },
     "ab5392cc7cf3483ca92460190e85d8b9": {
      "model_module": "@jupyter-widgets/base",
      "model_module_version": "1.2.0",
      "model_name": "LayoutModel",
      "state": {
       "_model_module": "@jupyter-widgets/base",
       "_model_module_version": "1.2.0",
       "_model_name": "LayoutModel",
       "_view_count": null,
       "_view_module": "@jupyter-widgets/base",
       "_view_module_version": "1.2.0",
       "_view_name": "LayoutView",
       "align_content": null,
       "align_items": null,
       "align_self": null,
       "border": null,
       "bottom": null,
       "display": null,
       "flex": null,
       "flex_flow": null,
       "grid_area": null,
       "grid_auto_columns": null,
       "grid_auto_flow": null,
       "grid_auto_rows": null,
       "grid_column": null,
       "grid_gap": null,
       "grid_row": null,
       "grid_template_areas": null,
       "grid_template_columns": null,
       "grid_template_rows": null,
       "height": null,
       "justify_content": null,
       "justify_items": null,
       "left": null,
       "margin": null,
       "max_height": null,
       "max_width": null,
       "min_height": null,
       "min_width": null,
       "object_fit": null,
       "object_position": null,
       "order": null,
       "overflow": null,
       "overflow_x": null,
       "overflow_y": null,
       "padding": null,
       "right": null,
       "top": null,
       "visibility": null,
       "width": null
      }
     },
     "ef5d4fa6762d422ca6f51c94dd4c2382": {
      "model_module": "@jupyter-widgets/controls",
      "model_module_version": "1.5.0",
      "model_name": "HTMLModel",
      "state": {
       "_dom_classes": [],
       "_model_module": "@jupyter-widgets/controls",
       "_model_module_version": "1.5.0",
       "_model_name": "HTMLModel",
       "_view_count": null,
       "_view_module": "@jupyter-widgets/controls",
       "_view_module_version": "1.5.0",
       "_view_name": "HTMLView",
       "description": "",
       "description_tooltip": null,
       "layout": "IPY_MODEL_ab5392cc7cf3483ca92460190e85d8b9",
       "placeholder": "​",
       "style": "IPY_MODEL_fb5020c0c54d40ad8925737a69172bc3",
       "value": " 83.3M/83.3M [00:01&lt;00:00, 69.2MB/s]"
      }
     },
     "f72c2e9cb334436caa102a23363650bf": {
      "model_module": "@jupyter-widgets/controls",
      "model_module_version": "1.5.0",
      "model_name": "FloatProgressModel",
      "state": {
       "_dom_classes": [],
       "_model_module": "@jupyter-widgets/controls",
       "_model_module_version": "1.5.0",
       "_model_name": "FloatProgressModel",
       "_view_count": null,
       "_view_module": "@jupyter-widgets/controls",
       "_view_module_version": "1.5.0",
       "_view_name": "ProgressView",
       "bar_style": "success",
       "description": "",
       "description_tooltip": null,
       "layout": "IPY_MODEL_616f363904d94364b15ecd36c80c481e",
       "max": 87319819.0,
       "min": 0.0,
       "orientation": "horizontal",
       "style": "IPY_MODEL_70765840b9b844779dd1072dcec3b623",
       "value": 87319819.0
      }
     },
     "fb5020c0c54d40ad8925737a69172bc3": {
      "model_module": "@jupyter-widgets/controls",
      "model_module_version": "1.5.0",
      "model_name": "DescriptionStyleModel",
      "state": {
       "_model_module": "@jupyter-widgets/controls",
       "_model_module_version": "1.5.0",
       "_model_name": "DescriptionStyleModel",
       "_view_count": null,
       "_view_module": "@jupyter-widgets/base",
       "_view_module_version": "1.2.0",
       "_view_name": "StyleView",
       "description_width": ""
      }
     }
    },
    "version_major": 2,
    "version_minor": 0
   }
  }
 },
 "nbformat": 4,
 "nbformat_minor": 5
}
